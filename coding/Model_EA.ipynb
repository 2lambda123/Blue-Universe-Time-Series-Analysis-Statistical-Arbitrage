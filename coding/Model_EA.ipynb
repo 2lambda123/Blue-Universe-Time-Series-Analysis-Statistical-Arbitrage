{
 "cells": [
  {
   "cell_type": "code",
   "execution_count": 1,
   "metadata": {
    "colab": {
     "base_uri": "https://localhost:8080/",
     "height": 34
    },
    "colab_type": "code",
    "executionInfo": {
     "elapsed": 1028,
     "status": "ok",
     "timestamp": 1577078767764,
     "user": {
      "displayName": "Yuqing Wang",
      "photoUrl": "",
      "userId": "11167574284643904802"
     },
     "user_tz": 300
    },
    "id": "KC6hIfgVoRzW",
    "outputId": "0f03dd78-66a6-42d3-a9b4-35b34853909d"
   },
   "outputs": [
    {
     "name": "stdout",
     "output_type": "stream",
     "text": [
      "/Users/yuqingwang/Desktop/Time Series Final\n"
     ]
    }
   ],
   "source": [
    "%cd .."
   ]
  },
  {
   "cell_type": "code",
   "execution_count": 2,
   "metadata": {
    "colab": {},
    "colab_type": "code",
    "id": "gc3p-QbuoYlh"
   },
   "outputs": [],
   "source": [
    "import numpy as np\n",
    "import pandas as pd\n",
    "import matplotlib.pyplot as plt\n",
    "%matplotlib inline\n",
    "import math\n",
    "import statsmodels.api as sm\n",
    "from scipy.optimize import minimize"
   ]
  },
  {
   "cell_type": "code",
   "execution_count": 3,
   "metadata": {
    "colab": {},
    "colab_type": "code",
    "id": "xo7jXtCToaRe"
   },
   "outputs": [],
   "source": [
    "def load_data(file):\n",
    "    Stock = pd.read_csv(file)\n",
    "    Stock['Date'] = pd.to_datetime(Stock['Date'])\n",
    "    Stock.set_index(['Date'],inplace=True)\n",
    "    Stock = Stock['Close']\n",
    "    Stock_return = np.log(Stock/Stock.shift())\n",
    "    Stock_return.dropna(inplace = True)\n",
    "    return Stock_return"
   ]
  },
  {
   "cell_type": "code",
   "execution_count": 4,
   "metadata": {
    "colab": {},
    "colab_type": "code",
    "id": "rqJr-XjfocUR"
   },
   "outputs": [],
   "source": [
    "EA_return = load_data('data/EA.csv')"
   ]
  },
  {
   "cell_type": "code",
   "execution_count": 5,
   "metadata": {
    "colab": {},
    "colab_type": "code",
    "id": "EMt-BvgAofT5"
   },
   "outputs": [],
   "source": [
    "EA_return_mean = EA_return.loc[EA_return.index<pd.to_datetime('2019-10-30')].mean()"
   ]
  },
  {
   "cell_type": "markdown",
   "metadata": {
    "colab_type": "text",
    "id": "KpRSvtWIorru"
   },
   "source": [
    "## Constant Volatiltiy"
   ]
  },
  {
   "cell_type": "code",
   "execution_count": 6,
   "metadata": {
    "colab": {
     "base_uri": "https://localhost:8080/",
     "height": 34
    },
    "colab_type": "code",
    "executionInfo": {
     "elapsed": 1566,
     "status": "ok",
     "timestamp": 1577078768426,
     "user": {
      "displayName": "Yuqing Wang",
      "photoUrl": "",
      "userId": "11167574284643904802"
     },
     "user_tz": 300
    },
    "id": "OseFOJf_otHe",
    "outputId": "387f0e16-e4c1-4dc3-9ac5-3802de8092cb"
   },
   "outputs": [
    {
     "data": {
      "text/plain": [
       "0.0197214701554294"
      ]
     },
     "execution_count": 6,
     "metadata": {},
     "output_type": "execute_result"
    }
   ],
   "source": [
    "vol = np.std(EA_return.loc[EA_return.index<pd.to_datetime('2019-10-30')])\n",
    "vol"
   ]
  },
  {
   "cell_type": "markdown",
   "metadata": {
    "colab_type": "text",
    "id": "FyxFxJ9nwjUU"
   },
   "source": [
    "## ARCH(1)"
   ]
  },
  {
   "cell_type": "code",
   "execution_count": null,
   "metadata": {
    "colab": {},
    "colab_type": "code",
    "id": "Trdx11Lfwf_l"
   },
   "outputs": [],
   "source": []
  },
  {
   "cell_type": "code",
   "execution_count": 7,
   "metadata": {
    "colab": {
     "base_uri": "https://localhost:8080/",
     "height": 306
    },
    "colab_type": "code",
    "executionInfo": {
     "elapsed": 5344,
     "status": "ok",
     "timestamp": 1577078772260,
     "user": {
      "displayName": "Yuqing Wang",
      "photoUrl": "",
      "userId": "11167574284643904802"
     },
     "user_tz": 300
    },
    "id": "mqZBozq_owqn",
    "outputId": "1f434e20-4e28-44f8-e994-dea4c092202d"
   },
   "outputs": [
    {
     "name": "stderr",
     "output_type": "stream",
     "text": [
      "/Users/yuqingwang/opt/anaconda3/lib/python3.7/site-packages/ipykernel_launcher.py:8: RuntimeWarning: invalid value encountered in log\n",
      "  \n"
     ]
    },
    {
     "name": "stdout",
     "output_type": "stream",
     "text": [
      "Optimization terminated successfully.\n",
      "         Current function value: -2439.547249\n",
      "         Iterations: 274\n",
      "         Function evaluations: 515\n"
     ]
    },
    {
     "data": {
      "text/plain": [
       " final_simplex: (array([[0.00030705, 0.23172772, 0.00034225],\n",
       "       [0.00030705, 0.23172772, 0.00034225],\n",
       "       [0.00030705, 0.23172772, 0.00034225],\n",
       "       [0.00030705, 0.23172772, 0.00034225]]), array([-2439.54724852, -2439.54724852, -2439.54724852, -2439.54724852]))\n",
       "           fun: -2439.5472485239416\n",
       "       message: 'Optimization terminated successfully.'\n",
       "          nfev: 515\n",
       "           nit: 274\n",
       "        status: 0\n",
       "       success: True\n",
       "             x: array([0.00030705, 0.23172772, 0.00034225])"
      ]
     },
     "execution_count": 7,
     "metadata": {},
     "output_type": "execute_result"
    }
   ],
   "source": [
    "parameter_ARCH = np.array([vol,0.3,EA_return_mean])#alfa_0,alfa_1,miu\n",
    "\n",
    "\n",
    "def L_ARCH (parameter_0):\n",
    "    result = 0\n",
    "    sigma2 = vol*vol\n",
    "    for i in EA_return.loc[EA_return.index<pd.to_datetime('2019-10-30')]:\n",
    "        result = result + np.log(2*math.pi)/2 + np.log(sigma2)/2 + (i-parameter_0[2])*(i-parameter_0[2])/(sigma2)/2\n",
    "        sigma2 = parameter_0[0]+parameter_0[1]*(i-parameter_0[2])*(i-parameter_0[2])\n",
    "    return result\n",
    "\n",
    "res_ARCH = minimize(L_ARCH, parameter_ARCH, method='nelder-mead',\n",
    "                options={'xtol': 1e-9, 'disp': True, 'maxiter': 1000})\n",
    "res_ARCH"
   ]
  },
  {
   "cell_type": "code",
   "execution_count": 8,
   "metadata": {
    "colab": {},
    "colab_type": "code",
    "id": "cXjfbw73o2Oj"
   },
   "outputs": [],
   "source": [
    "ARCH_estimated_vol = []\n",
    "sigma2 = vol*vol\n",
    "for i in EA_return:\n",
    "    sigma2 = res_ARCH.x[0]+res_ARCH.x[1]*(i-res_ARCH.x[2])*(i-res_ARCH.x[2])\n",
    "    ARCH_estimated_vol.append(sigma2)\n",
    "ARCH_estimated_vol.pop\n",
    "ARCH_estimated_vol = pd.DataFrame(ARCH_estimated_vol, index = EA_return.index, columns = ['ARCH_estimated_vol'])"
   ]
  },
  {
   "cell_type": "code",
   "execution_count": 19,
   "metadata": {
    "colab": {},
    "colab_type": "code",
    "id": "y41S-QPSOsTr"
   },
   "outputs": [],
   "source": [
    "#np.sqrt(ARCH_estimated_vol*252).to_pickle('Estimated Volatility/EA_ARCH_estimated_vol.pkl')"
   ]
  },
  {
   "cell_type": "markdown",
   "metadata": {
    "colab_type": "text",
    "id": "9FSOMBTqpK1Q"
   },
   "source": [
    "## GARCH(1,1)"
   ]
  },
  {
   "cell_type": "code",
   "execution_count": 10,
   "metadata": {
    "colab": {
     "base_uri": "https://localhost:8080/",
     "height": 425
    },
    "colab_type": "code",
    "executionInfo": {
     "elapsed": 12764,
     "status": "ok",
     "timestamp": 1577078779745,
     "user": {
      "displayName": "Yuqing Wang",
      "photoUrl": "",
      "userId": "11167574284643904802"
     },
     "user_tz": 300
    },
    "id": "T8TG2mEKpDPp",
    "outputId": "7c094fee-78a2-4ce5-834a-c3e6ad3dd33a"
   },
   "outputs": [
    {
     "name": "stderr",
     "output_type": "stream",
     "text": [
      "/Users/yuqingwang/opt/anaconda3/lib/python3.7/site-packages/ipykernel_launcher.py:8: RuntimeWarning: invalid value encountered in log\n",
      "  \n"
     ]
    },
    {
     "name": "stdout",
     "output_type": "stream",
     "text": [
      "Optimization terminated successfully.\n",
      "         Current function value: -2419.484337\n",
      "         Iterations: 580\n",
      "         Function evaluations: 983\n"
     ]
    },
    {
     "data": {
      "text/plain": [
       " final_simplex: (array([[ 7.58034113e-04, -4.36918035e-03, -9.78346933e-01,\n",
       "         2.60646263e-04],\n",
       "       [ 7.58034114e-04, -4.36918032e-03, -9.78346933e-01,\n",
       "         2.60646259e-04],\n",
       "       [ 7.58034114e-04, -4.36918030e-03, -9.78346933e-01,\n",
       "         2.60646244e-04],\n",
       "       [ 7.58034113e-04, -4.36918032e-03, -9.78346933e-01,\n",
       "         2.60646246e-04],\n",
       "       [ 7.58034114e-04, -4.36918032e-03, -9.78346933e-01,\n",
       "         2.60646250e-04]]), array([-2419.48433723, -2419.48433723, -2419.48433723, -2419.48433723,\n",
       "       -2419.48433723]))\n",
       "           fun: -2419.4843372305736\n",
       "       message: 'Optimization terminated successfully.'\n",
       "          nfev: 983\n",
       "           nit: 580\n",
       "        status: 0\n",
       "       success: True\n",
       "             x: array([ 7.58034113e-04, -4.36918035e-03, -9.78346933e-01,  2.60646263e-04])"
      ]
     },
     "execution_count": 10,
     "metadata": {},
     "output_type": "execute_result"
    }
   ],
   "source": [
    "parameter_GARCH = np.array([vol,0.34,0.66,EA_return_mean])#alfa_0,alfa_1,beta_1,miu\n",
    "\n",
    "\n",
    "def L_GARCH (parameter_0):\n",
    "    result = 0\n",
    "    sigma2 = vol*vol\n",
    "    for i in EA_return.loc[EA_return.index<pd.to_datetime('2019-10-30')]:\n",
    "        result = result + np.log(2*math.pi)/2 + np.log(sigma2)/2 + (i-parameter_0[3])*(i-parameter_0[3])/(sigma2)/2\n",
    "        sigma2 = parameter_0[0]+parameter_0[1]*(i-parameter_0[3])*(i-parameter_0[3])+parameter_0[2]*sigma2\n",
    "    return result\n",
    "\n",
    "res_GARCH = minimize(L_GARCH, parameter_GARCH, method='nelder-mead',\n",
    "                options={'xtol': 1e-9, 'disp': True, 'maxiter': 1000})\n",
    "res_GARCH"
   ]
  },
  {
   "cell_type": "code",
   "execution_count": 11,
   "metadata": {
    "colab": {
     "base_uri": "https://localhost:8080/",
     "height": 51
    },
    "colab_type": "code",
    "executionInfo": {
     "elapsed": 12740,
     "status": "ok",
     "timestamp": 1577078779747,
     "user": {
      "displayName": "Yuqing Wang",
      "photoUrl": "",
      "userId": "11167574284643904802"
     },
     "user_tz": 300
    },
    "id": "D17uJ_4HpUBc",
    "outputId": "624067a2-0aca-4996-f914-5eaf097671fe"
   },
   "outputs": [
    {
     "data": {
      "text/plain": [
       "GARCH_estimated_vol    0.000382\n",
       "dtype: float64"
      ]
     },
     "execution_count": 11,
     "metadata": {},
     "output_type": "execute_result"
    }
   ],
   "source": [
    "GARCH_estimated_vol = []\n",
    "sigma2 = vol*vol\n",
    "for i in EA_return:\n",
    "    sigma2 = res_GARCH.x[0]+res_GARCH.x[1]*(i-res_GARCH.x[3])*(i-res_GARCH.x[3])+res_GARCH.x[2]*sigma2\n",
    "    GARCH_estimated_vol.append(sigma2)\n",
    "GARCH_estimated_vol.pop\n",
    "GARCH_estimated_vol = pd.DataFrame(GARCH_estimated_vol, index = EA_return.index, columns = ['GARCH_estimated_vol'])\n",
    "GARCH_estimated_vol.mean()"
   ]
  },
  {
   "cell_type": "code",
   "execution_count": 20,
   "metadata": {
    "colab": {},
    "colab_type": "code",
    "id": "Uk_qDFvWpf4d"
   },
   "outputs": [],
   "source": [
    "#np.sqrt(GARCH_estimated_vol*252).to_pickle('Estimated Volatility/EA_GARCH_estimated_vol.pkl')"
   ]
  },
  {
   "cell_type": "markdown",
   "metadata": {
    "colab_type": "text",
    "id": "w_iY4rgMpjZY"
   },
   "source": [
    "## TGARCH"
   ]
  },
  {
   "cell_type": "code",
   "execution_count": 13,
   "metadata": {
    "colab": {
     "base_uri": "https://localhost:8080/",
     "height": 442
    },
    "colab_type": "code",
    "executionInfo": {
     "elapsed": 21352,
     "status": "ok",
     "timestamp": 1577078788406,
     "user": {
      "displayName": "Yuqing Wang",
      "photoUrl": "",
      "userId": "11167574284643904802"
     },
     "user_tz": 300
    },
    "id": "WwroZQ0PplYU",
    "outputId": "e6823da8-3d70-40d4-8351-b52ed6f74177"
   },
   "outputs": [
    {
     "name": "stdout",
     "output_type": "stream",
     "text": [
      "Optimization terminated successfully.\n",
      "         Current function value: -2455.610459\n",
      "         Iterations: 545\n",
      "         Function evaluations: 903\n"
     ]
    },
    {
     "data": {
      "text/plain": [
       " final_simplex: (array([[1.05316049e-04, 1.28931569e-01, 5.88588294e-01, 2.96356267e-04,\n",
       "        1.67099946e-02],\n",
       "       [1.05316049e-04, 1.28931569e-01, 5.88588293e-01, 2.96356278e-04,\n",
       "        1.67099940e-02],\n",
       "       [1.05316049e-04, 1.28931569e-01, 5.88588293e-01, 2.96356271e-04,\n",
       "        1.67099942e-02],\n",
       "       [1.05316049e-04, 1.28931569e-01, 5.88588293e-01, 2.96356274e-04,\n",
       "        1.67099943e-02],\n",
       "       [1.05316049e-04, 1.28931568e-01, 5.88588293e-01, 2.96356265e-04,\n",
       "        1.67099944e-02],\n",
       "       [1.05316049e-04, 1.28931568e-01, 5.88588293e-01, 2.96356270e-04,\n",
       "        1.67099947e-02]]), array([-2455.61045853, -2455.61045853, -2455.61045853, -2455.61045853,\n",
       "       -2455.61045853, -2455.61045853]))\n",
       "           fun: -2455.6104585282774\n",
       "       message: 'Optimization terminated successfully.'\n",
       "          nfev: 903\n",
       "           nit: 545\n",
       "        status: 0\n",
       "       success: True\n",
       "             x: array([1.05316049e-04, 1.28931569e-01, 5.88588294e-01, 2.96356267e-04,\n",
       "       1.67099946e-02])"
      ]
     },
     "execution_count": 13,
     "metadata": {},
     "output_type": "execute_result"
    }
   ],
   "source": [
    "parameter_TGARCH = np.array([0,0.35,0.5,0,0])#alfa_0,alfa_1,beta_!,miu,gamma1\n",
    "\n",
    "def L_TGARCH (parameter_0):\n",
    "    result = 0\n",
    "    sigma2 = vol*vol\n",
    "    for i in EA_return.loc[EA_return.index<pd.to_datetime('2019-10-30')]:\n",
    "        result = result + np.log(2*math.pi)/2 + np.log(sigma2)/2 + (i-parameter_0[3])*(i-parameter_0[3])/(sigma2)/2\n",
    "        if i-parameter_0[3]<0:\n",
    "            S = 1\n",
    "        else:\n",
    "            S = 0\n",
    "        sigma2 = parameter_0[0]+parameter_0[1]*(i-parameter_0[3])*(i-parameter_0[3])+parameter_0[4]*S*(i-parameter_0[3])*(i-parameter_0[3])+parameter_0[2]*sigma2\n",
    "    return result\n",
    "\n",
    "res_TGARCH = minimize(L_TGARCH, parameter_TGARCH, method='nelder-mead',\n",
    "                options={'xtol': 1e-9, 'disp': True, 'maxiter': 1000})\n",
    "res_TGARCH"
   ]
  },
  {
   "cell_type": "code",
   "execution_count": 14,
   "metadata": {
    "colab": {
     "base_uri": "https://localhost:8080/",
     "height": 51
    },
    "colab_type": "code",
    "executionInfo": {
     "elapsed": 21337,
     "status": "ok",
     "timestamp": 1577078788407,
     "user": {
      "displayName": "Yuqing Wang",
      "photoUrl": "",
      "userId": "11167574284643904802"
     },
     "user_tz": 300
    },
    "id": "XQ2NqxVJpzVq",
    "outputId": "766eb2a5-4297-408f-8ed6-77e164c2426d"
   },
   "outputs": [
    {
     "data": {
      "text/plain": [
       "TGARCH_estimated_vol    0.000383\n",
       "dtype: float64"
      ]
     },
     "execution_count": 14,
     "metadata": {},
     "output_type": "execute_result"
    }
   ],
   "source": [
    "TGARCH_estimated_vol = []\n",
    "sigma2 = vol*vol\n",
    "for i in EA_return:\n",
    "    if i-res_TGARCH.x[3]<0:\n",
    "        S = 1\n",
    "    else:\n",
    "        S = 0\n",
    "    sigma2 = res_TGARCH.x[0]+res_TGARCH.x[1]*(i-res_TGARCH.x[3])*(i-res_TGARCH.x[3])+res_TGARCH.x[4]*S*(i-res_TGARCH.x[3])*(i-res_TGARCH.x[3])+res_TGARCH.x[2]*sigma2\n",
    "    TGARCH_estimated_vol.append(sigma2)\n",
    "TGARCH_estimated_vol.pop\n",
    "TGARCH_estimated_vol = pd.DataFrame(TGARCH_estimated_vol, index = EA_return.index, columns = ['TGARCH_estimated_vol'])\n",
    "TGARCH_estimated_vol.mean()"
   ]
  },
  {
   "cell_type": "code",
   "execution_count": 21,
   "metadata": {
    "colab": {},
    "colab_type": "code",
    "id": "P1ArJe0rp8bm"
   },
   "outputs": [],
   "source": [
    "#np.sqrt(TGARCH_estimated_vol*252).to_pickle('Estimated Volatility/EA_TGARCH_estimated_vol.pkl')"
   ]
  },
  {
   "cell_type": "markdown",
   "metadata": {
    "colab_type": "text",
    "id": "yiVW2ojIp9NO"
   },
   "source": [
    "## IGARCH"
   ]
  },
  {
   "cell_type": "code",
   "execution_count": 16,
   "metadata": {
    "colab": {
     "base_uri": "https://localhost:8080/",
     "height": 306
    },
    "colab_type": "code",
    "executionInfo": {
     "elapsed": 25875,
     "status": "ok",
     "timestamp": 1577078792974,
     "user": {
      "displayName": "Yuqing Wang",
      "photoUrl": "",
      "userId": "11167574284643904802"
     },
     "user_tz": 300
    },
    "id": "honFNH9cp_VQ",
    "outputId": "549e8b2c-b913-4309-ec6c-d7e7070d4174"
   },
   "outputs": [
    {
     "name": "stderr",
     "output_type": "stream",
     "text": [
      "/Users/yuqingwang/opt/anaconda3/lib/python3.7/site-packages/ipykernel_launcher.py:8: RuntimeWarning: invalid value encountered in log\n",
      "  \n"
     ]
    },
    {
     "name": "stdout",
     "output_type": "stream",
     "text": [
      "Optimization terminated successfully.\n",
      "         Current function value: -2429.644395\n",
      "         Iterations: 312\n",
      "         Function evaluations: 580\n"
     ]
    },
    {
     "data": {
      "text/plain": [
       " final_simplex: (array([[5.10515608e-05, 6.84674599e-01, 1.30406132e-04],\n",
       "       [5.10515606e-05, 6.84674600e-01, 1.30406127e-04],\n",
       "       [5.10515606e-05, 6.84674600e-01, 1.30406119e-04],\n",
       "       [5.10515607e-05, 6.84674600e-01, 1.30406125e-04]]), array([-2429.64439509, -2429.64439509, -2429.64439509, -2429.64439509]))\n",
       "           fun: -2429.644395094239\n",
       "       message: 'Optimization terminated successfully.'\n",
       "          nfev: 580\n",
       "           nit: 312\n",
       "        status: 0\n",
       "       success: True\n",
       "             x: array([5.10515608e-05, 6.84674599e-01, 1.30406132e-04])"
      ]
     },
     "execution_count": 16,
     "metadata": {},
     "output_type": "execute_result"
    }
   ],
   "source": [
    "parameter_IGARCH = np.array([vol,0.66,EA_return_mean])#alfa_0,beta_1,miu\n",
    "\n",
    "\n",
    "def L_IGARCH (parameter_0):\n",
    "    result = 0\n",
    "    sigma2 = vol*vol\n",
    "    for i in EA_return.loc[EA_return.index<pd.to_datetime('2019-10-30')]:\n",
    "        result = result + np.log(2*math.pi)/2 + np.log(sigma2)/2 + (i-parameter_0[2])*(i-parameter_0[2])/(sigma2)/2\n",
    "        sigma2 = parameter_0[0]+(1-parameter_0[1])*(i-parameter_0[2])*(i-parameter_0[2])+parameter_0[1]*sigma2\n",
    "    return result\n",
    "\n",
    "res_IGARCH = minimize(L_IGARCH, parameter_IGARCH, method='nelder-mead',\n",
    "                options={'xtol': 1e-9, 'disp': True, 'maxiter': 1000})\n",
    "res_IGARCH"
   ]
  },
  {
   "cell_type": "code",
   "execution_count": 17,
   "metadata": {
    "colab": {
     "base_uri": "https://localhost:8080/",
     "height": 51
    },
    "colab_type": "code",
    "executionInfo": {
     "elapsed": 25860,
     "status": "ok",
     "timestamp": 1577078792976,
     "user": {
      "displayName": "Yuqing Wang",
      "photoUrl": "",
      "userId": "11167574284643904802"
     },
     "user_tz": 300
    },
    "id": "QCKKrVhWqInd",
    "outputId": "c3884da1-d410-421b-bf5f-c22132a87ac3"
   },
   "outputs": [
    {
     "data": {
      "text/plain": [
       "IGARCH_estimated_vol    0.000542\n",
       "dtype: float64"
      ]
     },
     "execution_count": 17,
     "metadata": {},
     "output_type": "execute_result"
    }
   ],
   "source": [
    "IGARCH_estimated_vol = []\n",
    "sigma2 = vol*vol\n",
    "for i in EA_return:\n",
    "    sigma2 = res_IGARCH.x[0]+(1-res_IGARCH.x[1])*(i-res_IGARCH.x[2])*(i-res_IGARCH.x[2])+res_IGARCH.x[1]*sigma2\n",
    "    IGARCH_estimated_vol.append(sigma2)\n",
    "IGARCH_estimated_vol.pop\n",
    "IGARCH_estimated_vol = pd.DataFrame(IGARCH_estimated_vol, index = EA_return.index, columns = ['IGARCH_estimated_vol'])\n",
    "IGARCH_estimated_vol.mean()"
   ]
  },
  {
   "cell_type": "code",
   "execution_count": 22,
   "metadata": {
    "colab": {},
    "colab_type": "code",
    "id": "6h8z9NZIqSRA"
   },
   "outputs": [],
   "source": [
    "#np.sqrt(IGARCH_estimated_vol*252).to_pickle('Estimated Volatility/EA_IGARCH_estimated_vol.pkl')"
   ]
  },
  {
   "cell_type": "code",
   "execution_count": null,
   "metadata": {
    "colab": {},
    "colab_type": "code",
    "id": "HQ3kl2VkPX3k"
   },
   "outputs": [],
   "source": []
  }
 ],
 "metadata": {
  "colab": {
   "name": "Model_EA.ipynb",
   "provenance": []
  },
  "kernelspec": {
   "display_name": "Python 3",
   "language": "python",
   "name": "python3"
  },
  "language_info": {
   "codemirror_mode": {
    "name": "ipython",
    "version": 3
   },
   "file_extension": ".py",
   "mimetype": "text/x-python",
   "name": "python",
   "nbconvert_exporter": "python",
   "pygments_lexer": "ipython3",
   "version": "3.7.4"
  }
 },
 "nbformat": 4,
 "nbformat_minor": 1
}
