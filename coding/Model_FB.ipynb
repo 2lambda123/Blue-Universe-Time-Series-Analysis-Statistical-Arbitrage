{
 "cells": [
  {
   "cell_type": "code",
   "execution_count": 1,
   "metadata": {
    "colab": {
     "base_uri": "https://localhost:8080/",
     "height": 34
    },
    "colab_type": "code",
    "executionInfo": {
     "elapsed": 20596,
     "status": "ok",
     "timestamp": 1577124518334,
     "user": {
      "displayName": "Yuqing Wang",
      "photoUrl": "",
      "userId": "11167574284643904802"
     },
     "user_tz": 300
    },
    "id": "RBsDrZapECbP",
    "outputId": "d279e93d-a568-44cb-8b5c-de6d38f7f677"
   },
   "outputs": [
    {
     "name": "stdout",
     "output_type": "stream",
     "text": [
      "/Users/yuqingwang/Desktop/Time Series Final\n"
     ]
    }
   ],
   "source": [
    "%cd .."
   ]
  },
  {
   "cell_type": "code",
   "execution_count": 2,
   "metadata": {
    "colab": {},
    "colab_type": "code",
    "id": "xaaEnLiyEJ-y"
   },
   "outputs": [],
   "source": [
    "import numpy as np\n",
    "import pandas as pd\n",
    "import matplotlib.pyplot as plt\n",
    "%matplotlib inline\n",
    "import math\n",
    "import statsmodels.api as sm\n",
    "from scipy.optimize import minimize"
   ]
  },
  {
   "cell_type": "code",
   "execution_count": 3,
   "metadata": {
    "colab": {},
    "colab_type": "code",
    "id": "vmUoSsrUENPy"
   },
   "outputs": [],
   "source": [
    "def load_data(file):\n",
    "    Stock = pd.read_csv(file)\n",
    "    Stock['Date'] = pd.to_datetime(Stock['Date'])\n",
    "    Stock.set_index(['Date'],inplace=True)\n",
    "    Stock = Stock['Close']\n",
    "    Stock_return = np.log(Stock/Stock.shift())\n",
    "    Stock_return.dropna(inplace = True)\n",
    "    return Stock_return"
   ]
  },
  {
   "cell_type": "code",
   "execution_count": 4,
   "metadata": {
    "colab": {},
    "colab_type": "code",
    "id": "Khjn3eSUFQMQ"
   },
   "outputs": [],
   "source": [
    "FB_return = load_data('data/FB.csv')"
   ]
  },
  {
   "cell_type": "code",
   "execution_count": 5,
   "metadata": {
    "colab": {
     "base_uri": "https://localhost:8080/",
     "height": 238
    },
    "colab_type": "code",
    "executionInfo": {
     "elapsed": 23008,
     "status": "ok",
     "timestamp": 1577124520773,
     "user": {
      "displayName": "Yuqing Wang",
      "photoUrl": "",
      "userId": "11167574284643904802"
     },
     "user_tz": 300
    },
    "id": "ja566I4dFme4",
    "outputId": "f58a337f-4107-4d28-c537-2755019c36de"
   },
   "outputs": [
    {
     "data": {
      "text/plain": [
       "Date\n",
       "2016-01-05    0.004977\n",
       "2016-01-06    0.002333\n",
       "2016-01-07   -0.050287\n",
       "2016-01-08   -0.006044\n",
       "2016-01-11    0.001848\n",
       "                ...   \n",
       "2019-11-11   -0.006466\n",
       "2019-11-12    0.025309\n",
       "2019-11-13   -0.006604\n",
       "2019-11-14   -0.000207\n",
       "2019-11-15    0.010045\n",
       "Name: Close, Length: 975, dtype: float64"
      ]
     },
     "execution_count": 5,
     "metadata": {},
     "output_type": "execute_result"
    }
   ],
   "source": [
    "FB_return.loc[FB_return.index<pd.to_datetime('2019-11-18')]"
   ]
  },
  {
   "cell_type": "code",
   "execution_count": 6,
   "metadata": {
    "colab": {
     "base_uri": "https://localhost:8080/",
     "height": 34
    },
    "colab_type": "code",
    "executionInfo": {
     "elapsed": 386,
     "status": "ok",
     "timestamp": 1577125707417,
     "user": {
      "displayName": "Yuqing Wang",
      "photoUrl": "",
      "userId": "11167574284643904802"
     },
     "user_tz": 300
    },
    "id": "PxAFXl45Pp25",
    "outputId": "04bbe27c-5209-4743-c9a8-acfde583e8cd"
   },
   "outputs": [
    {
     "data": {
      "text/plain": [
       "0.0006629588874457139"
      ]
     },
     "execution_count": 6,
     "metadata": {},
     "output_type": "execute_result"
    }
   ],
   "source": [
    "FB_return_mean = FB_return.loc[FB_return.index<pd.to_datetime('2019-11-18')].mean()\n",
    "FB_return_mean"
   ]
  },
  {
   "cell_type": "code",
   "execution_count": 7,
   "metadata": {
    "colab": {
     "base_uri": "https://localhost:8080/",
     "height": 238
    },
    "colab_type": "code",
    "executionInfo": {
     "elapsed": 23107,
     "status": "ok",
     "timestamp": 1577124520890,
     "user": {
      "displayName": "Yuqing Wang",
      "photoUrl": "",
      "userId": "11167574284643904802"
     },
     "user_tz": 300
    },
    "id": "U7Piq9ZnP3gG",
    "outputId": "f8a73ca6-7906-41d1-9b5f-ef061a48fddb"
   },
   "outputs": [
    {
     "data": {
      "text/plain": [
       "Date\n",
       "2016-01-05    1.860969e-05\n",
       "2016-01-06    2.790631e-06\n",
       "2016-01-07    2.595888e-03\n",
       "2016-01-08    4.497674e-05\n",
       "2016-01-11    1.403541e-06\n",
       "                  ...     \n",
       "2019-11-11    5.082239e-05\n",
       "2019-11-12    6.074066e-04\n",
       "2019-11-13    5.280497e-05\n",
       "2019-11-14    7.570249e-07\n",
       "2019-11-15    8.802683e-05\n",
       "Name: Close, Length: 975, dtype: float64"
      ]
     },
     "execution_count": 7,
     "metadata": {},
     "output_type": "execute_result"
    }
   ],
   "source": [
    "(FB_return.loc[FB_return.index<pd.to_datetime('2019-11-18')]-FB_return_mean)**2"
   ]
  },
  {
   "cell_type": "markdown",
   "metadata": {
    "colab_type": "text",
    "id": "YhGn8-iXRIE1"
   },
   "source": [
    "## Constant Volatiltiy"
   ]
  },
  {
   "cell_type": "code",
   "execution_count": 8,
   "metadata": {
    "colab": {
     "base_uri": "https://localhost:8080/",
     "height": 34
    },
    "colab_type": "code",
    "executionInfo": {
     "elapsed": 23098,
     "status": "ok",
     "timestamp": 1577124520892,
     "user": {
      "displayName": "Yuqing Wang",
      "photoUrl": "",
      "userId": "11167574284643904802"
     },
     "user_tz": 300
    },
    "id": "1-CoQ35pQJyV",
    "outputId": "d42024e6-0635-4156-c06e-1f7331f613d2"
   },
   "outputs": [
    {
     "data": {
      "text/plain": [
       "0.018451852944634566"
      ]
     },
     "execution_count": 8,
     "metadata": {},
     "output_type": "execute_result"
    }
   ],
   "source": [
    "vol = np.std(FB_return.loc[FB_return.index<pd.to_datetime('2019-11-18')])\n",
    "vol"
   ]
  },
  {
   "cell_type": "markdown",
   "metadata": {
    "colab_type": "text",
    "id": "ceK4DoWGRj5p"
   },
   "source": [
    "## ARCH(1)"
   ]
  },
  {
   "cell_type": "code",
   "execution_count": 9,
   "metadata": {
    "colab": {
     "base_uri": "https://localhost:8080/",
     "height": 306
    },
    "colab_type": "code",
    "executionInfo": {
     "elapsed": 25690,
     "status": "ok",
     "timestamp": 1577124523497,
     "user": {
      "displayName": "Yuqing Wang",
      "photoUrl": "",
      "userId": "11167574284643904802"
     },
     "user_tz": 300
    },
    "id": "ufjyMPFsRXm9",
    "outputId": "1393b070-6ac3-42ed-ed4f-88aaa9dae9d1"
   },
   "outputs": [
    {
     "name": "stderr",
     "output_type": "stream",
     "text": [
      "/Users/yuqingwang/opt/anaconda3/lib/python3.7/site-packages/ipykernel_launcher.py:8: RuntimeWarning: invalid value encountered in log\n",
      "  \n"
     ]
    },
    {
     "name": "stdout",
     "output_type": "stream",
     "text": [
      "Optimization terminated successfully.\n",
      "         Current function value: -2526.485361\n",
      "         Iterations: 200\n",
      "         Function evaluations: 373\n"
     ]
    },
    {
     "data": {
      "text/plain": [
       " final_simplex: (array([[2.62493352e-04, 3.41183517e-01, 6.12495131e-04],\n",
       "       [2.62493351e-04, 3.41183517e-01, 6.12495146e-04],\n",
       "       [2.62493351e-04, 3.41183518e-01, 6.12495142e-04],\n",
       "       [2.62493352e-04, 3.41183517e-01, 6.12495143e-04]]), array([-2526.48536088, -2526.48536088, -2526.48536088, -2526.48536088]))\n",
       "           fun: -2526.4853608838916\n",
       "       message: 'Optimization terminated successfully.'\n",
       "          nfev: 373\n",
       "           nit: 200\n",
       "        status: 0\n",
       "       success: True\n",
       "             x: array([2.62493352e-04, 3.41183517e-01, 6.12495131e-04])"
      ]
     },
     "execution_count": 9,
     "metadata": {},
     "output_type": "execute_result"
    }
   ],
   "source": [
    "parameter_ARCH = np.array([vol,0.3,FB_return_mean])#alfa_0,alfa_1,miu\n",
    "\n",
    "\n",
    "def L_ARCH (parameter_0):\n",
    "    result = 0\n",
    "    sigma2 = vol*vol\n",
    "    for i in FB_return.loc[FB_return.index<pd.to_datetime('2019-11-18')]:\n",
    "        result = result + np.log(2*math.pi)/2 + np.log(sigma2)/2 + (i-parameter_0[2])*(i-parameter_0[2])/(sigma2)/2\n",
    "        sigma2 = parameter_0[0]+parameter_0[1]*(i-parameter_0[2])*(i-parameter_0[2])\n",
    "    return result\n",
    "\n",
    "res_ARCH = minimize(L_ARCH, parameter_ARCH, method='nelder-mead',\n",
    "                options={'xtol': 1e-9, 'disp': True, 'maxiter': 1000})\n",
    "res_ARCH"
   ]
  },
  {
   "cell_type": "code",
   "execution_count": 10,
   "metadata": {
    "colab": {
     "base_uri": "https://localhost:8080/",
     "height": 34
    },
    "colab_type": "code",
    "executionInfo": {
     "elapsed": 25679,
     "status": "ok",
     "timestamp": 1577124523498,
     "user": {
      "displayName": "Yuqing Wang",
      "photoUrl": "",
      "userId": "11167574284643904802"
     },
     "user_tz": 300
    },
    "id": "pSKRdOG8fvef",
    "outputId": "2808da2b-efcb-4e2b-c6ac-4dfb04460aaf"
   },
   "outputs": [
    {
     "data": {
      "text/plain": [
       "array([2.62493352e-04, 3.41183517e-01, 6.12495131e-04])"
      ]
     },
     "execution_count": 10,
     "metadata": {},
     "output_type": "execute_result"
    }
   ],
   "source": [
    "res_ARCH.x"
   ]
  },
  {
   "cell_type": "code",
   "execution_count": 11,
   "metadata": {
    "colab": {},
    "colab_type": "code",
    "id": "zfcFcyWxfMds"
   },
   "outputs": [],
   "source": [
    "ARCH_estimated_vol = []\n",
    "sigma2 = vol*vol\n",
    "for i in FB_return:\n",
    "    sigma2 = res_ARCH.x[0]+res_ARCH.x[1]*(i-res_ARCH.x[2])*(i-res_ARCH.x[2])\n",
    "    ARCH_estimated_vol.append(sigma2)\n"
   ]
  },
  {
   "cell_type": "code",
   "execution_count": 12,
   "metadata": {
    "colab": {},
    "colab_type": "code",
    "id": "qCQ0OLPcf3n9"
   },
   "outputs": [],
   "source": [
    "ARCH_estimated_vol.pop\n",
    "ARCH_estimated_vol = pd.DataFrame(ARCH_estimated_vol, index = FB_return.index, columns = ['ARCH_estimated_vol'])"
   ]
  },
  {
   "cell_type": "code",
   "execution_count": 13,
   "metadata": {
    "colab": {
     "base_uri": "https://localhost:8080/",
     "height": 51
    },
    "colab_type": "code",
    "executionInfo": {
     "elapsed": 25662,
     "status": "ok",
     "timestamp": 1577124523502,
     "user": {
      "displayName": "Yuqing Wang",
      "photoUrl": "",
      "userId": "11167574284643904802"
     },
     "user_tz": 300
    },
    "id": "L0Rh-ZkjggT6",
    "outputId": "067eb620-c98a-4e71-ad95-85f828777624"
   },
   "outputs": [
    {
     "data": {
      "text/plain": [
       "ARCH_estimated_vol    0.000377\n",
       "dtype: float64"
      ]
     },
     "execution_count": 13,
     "metadata": {},
     "output_type": "execute_result"
    }
   ],
   "source": [
    "ARCH_estimated_vol.mean()"
   ]
  },
  {
   "cell_type": "code",
   "execution_count": 28,
   "metadata": {
    "colab": {},
    "colab_type": "code",
    "id": "TYEGmEzEPvTB"
   },
   "outputs": [],
   "source": [
    "#np.sqrt(ARCH_estimated_vol*252).to_pickle('Estimated Volatility/FB_ARCH_estimated_vol.pkl')"
   ]
  },
  {
   "cell_type": "markdown",
   "metadata": {
    "colab_type": "text",
    "id": "LPP6k3ptTXZX"
   },
   "source": [
    "## GARCH(1,1)"
   ]
  },
  {
   "cell_type": "code",
   "execution_count": 15,
   "metadata": {
    "colab": {
     "base_uri": "https://localhost:8080/",
     "height": 360
    },
    "colab_type": "code",
    "executionInfo": {
     "elapsed": 31757,
     "status": "ok",
     "timestamp": 1577124529615,
     "user": {
      "displayName": "Yuqing Wang",
      "photoUrl": "",
      "userId": "11167574284643904802"
     },
     "user_tz": 300
    },
    "id": "s8YMjtBATedv",
    "outputId": "48a70261-ec14-4367-b1b6-2f265b959ed1"
   },
   "outputs": [
    {
     "name": "stderr",
     "output_type": "stream",
     "text": [
      "/Users/yuqingwang/opt/anaconda3/lib/python3.7/site-packages/ipykernel_launcher.py:8: RuntimeWarning: invalid value encountered in log\n",
      "  \n"
     ]
    },
    {
     "name": "stdout",
     "output_type": "stream",
     "text": [
      "Optimization terminated successfully.\n",
      "         Current function value: -2545.813215\n",
      "         Iterations: 492\n",
      "         Function evaluations: 865\n"
     ]
    },
    {
     "data": {
      "text/plain": [
       " final_simplex: (array([[8.62736701e-05, 3.54061499e-01, 4.93056131e-01, 2.38418160e-04],\n",
       "       [8.62736702e-05, 3.54061499e-01, 4.93056130e-01, 2.38418166e-04],\n",
       "       [8.62736703e-05, 3.54061499e-01, 4.93056131e-01, 2.38418167e-04],\n",
       "       [8.62736702e-05, 3.54061499e-01, 4.93056130e-01, 2.38418165e-04],\n",
       "       [8.62736703e-05, 3.54061499e-01, 4.93056130e-01, 2.38418165e-04]]), array([-2545.81321454, -2545.81321454, -2545.81321454, -2545.81321454,\n",
       "       -2545.81321454]))\n",
       "           fun: -2545.8132145379714\n",
       "       message: 'Optimization terminated successfully.'\n",
       "          nfev: 865\n",
       "           nit: 492\n",
       "        status: 0\n",
       "       success: True\n",
       "             x: array([8.62736701e-05, 3.54061499e-01, 4.93056131e-01, 2.38418160e-04])"
      ]
     },
     "execution_count": 15,
     "metadata": {},
     "output_type": "execute_result"
    }
   ],
   "source": [
    "parameter_GARCH = np.array([vol,0.34,0.66,FB_return_mean])#alfa_0,alfa_1,beta_1,miu\n",
    "\n",
    "\n",
    "def L_GARCH (parameter_0):\n",
    "    result = 0\n",
    "    sigma2 = vol*vol\n",
    "    for i in FB_return.loc[FB_return.index<pd.to_datetime('2019-11-18')]:\n",
    "        result = result + np.log(2*math.pi)/2 + np.log(sigma2)/2 + (i-parameter_0[3])*(i-parameter_0[3])/(sigma2)/2\n",
    "        sigma2 = parameter_0[0]+parameter_0[1]*(i-parameter_0[3])*(i-parameter_0[3])+parameter_0[2]*sigma2\n",
    "    return result\n",
    "\n",
    "res_GARCH = minimize(L_GARCH, parameter_GARCH, method='nelder-mead',\n",
    "                options={'xtol': 1e-9, 'disp': True, 'maxiter': 1000})\n",
    "res_GARCH"
   ]
  },
  {
   "cell_type": "code",
   "execution_count": 16,
   "metadata": {
    "colab": {
     "base_uri": "https://localhost:8080/",
     "height": 51
    },
    "colab_type": "code",
    "executionInfo": {
     "elapsed": 31745,
     "status": "ok",
     "timestamp": 1577124529616,
     "user": {
      "displayName": "Yuqing Wang",
      "photoUrl": "",
      "userId": "11167574284643904802"
     },
     "user_tz": 300
    },
    "id": "YZvSAQbohhNA",
    "outputId": "27f31616-b94f-4fa0-eee3-4f057197e3a4"
   },
   "outputs": [
    {
     "data": {
      "text/plain": [
       "GARCH_estimated_vol    0.000404\n",
       "dtype: float64"
      ]
     },
     "execution_count": 16,
     "metadata": {},
     "output_type": "execute_result"
    }
   ],
   "source": [
    "GARCH_estimated_vol = []\n",
    "sigma2 = vol*vol\n",
    "for i in FB_return:\n",
    "    sigma2 = res_GARCH.x[0]+res_GARCH.x[1]*(i-res_GARCH.x[3])*(i-res_GARCH.x[3])+res_GARCH.x[2]*sigma2\n",
    "    GARCH_estimated_vol.append(sigma2)\n",
    "GARCH_estimated_vol.pop\n",
    "GARCH_estimated_vol = pd.DataFrame(GARCH_estimated_vol, index = FB_return.index, columns = ['GARCH_estimated_vol'])\n",
    "GARCH_estimated_vol.mean()"
   ]
  },
  {
   "cell_type": "code",
   "execution_count": 29,
   "metadata": {
    "colab": {},
    "colab_type": "code",
    "id": "SIyrHIfoP2VA"
   },
   "outputs": [],
   "source": [
    "#np.sqrt(GARCH_estimated_vol*252).to_pickle('Estimated Volatility/FB_GARCH_estimated_vol.pkl')"
   ]
  },
  {
   "cell_type": "markdown",
   "metadata": {
    "colab_type": "text",
    "id": "hvvlQ7g1Xi1L"
   },
   "source": [
    "## TGARCH"
   ]
  },
  {
   "cell_type": "code",
   "execution_count": 18,
   "metadata": {
    "colab": {
     "base_uri": "https://localhost:8080/",
     "height": 476
    },
    "colab_type": "code",
    "executionInfo": {
     "elapsed": 38897,
     "status": "ok",
     "timestamp": 1577124536787,
     "user": {
      "displayName": "Yuqing Wang",
      "photoUrl": "",
      "userId": "11167574284643904802"
     },
     "user_tz": 300
    },
    "id": "zP4Kw4y0UDC4",
    "outputId": "2ce510cb-87cb-4502-85cd-a4b0549d583e"
   },
   "outputs": [
    {
     "name": "stderr",
     "output_type": "stream",
     "text": [
      "/Users/yuqingwang/opt/anaconda3/lib/python3.7/site-packages/ipykernel_launcher.py:7: RuntimeWarning: invalid value encountered in log\n",
      "  import sys\n"
     ]
    },
    {
     "name": "stdout",
     "output_type": "stream",
     "text": [
      "Optimization terminated successfully.\n",
      "         Current function value: -2546.547431\n",
      "         Iterations: 471\n",
      "         Function evaluations: 799\n"
     ]
    },
    {
     "data": {
      "text/plain": [
       " final_simplex: (array([[1.00657587e-04, 2.68078175e-01, 4.54879076e-01, 5.19384295e-05,\n",
       "        1.54648293e-01],\n",
       "       [1.00657587e-04, 2.68078175e-01, 4.54879075e-01, 5.19384267e-05,\n",
       "        1.54648293e-01],\n",
       "       [1.00657587e-04, 2.68078175e-01, 4.54879075e-01, 5.19384272e-05,\n",
       "        1.54648293e-01],\n",
       "       [1.00657587e-04, 2.68078175e-01, 4.54879075e-01, 5.19384294e-05,\n",
       "        1.54648293e-01],\n",
       "       [1.00657587e-04, 2.68078175e-01, 4.54879075e-01, 5.19384280e-05,\n",
       "        1.54648293e-01],\n",
       "       [1.00657587e-04, 2.68078175e-01, 4.54879075e-01, 5.19384265e-05,\n",
       "        1.54648293e-01]]), array([-2546.54743051, -2546.54743051, -2546.54743051, -2546.54743051,\n",
       "       -2546.54743051, -2546.54743051]))\n",
       "           fun: -2546.547430514276\n",
       "       message: 'Optimization terminated successfully.'\n",
       "          nfev: 799\n",
       "           nit: 471\n",
       "        status: 0\n",
       "       success: True\n",
       "             x: array([1.00657587e-04, 2.68078175e-01, 4.54879076e-01, 5.19384295e-05,\n",
       "       1.54648293e-01])"
      ]
     },
     "execution_count": 18,
     "metadata": {},
     "output_type": "execute_result"
    }
   ],
   "source": [
    "parameter_TGARCH = np.array([0,0.35,0.5,0,0])#alfa_0,alfa_1,beta_!,miu,gamma1\n",
    "\n",
    "def L_TGARCH (parameter_0):\n",
    "    result = 0\n",
    "    sigma2 = vol*vol\n",
    "    for i in FB_return.loc[FB_return.index<pd.to_datetime('2019-11-18')]:\n",
    "        result = result + np.log(2*math.pi)/2 + np.log(sigma2)/2 + (i-parameter_0[3])*(i-parameter_0[3])/(sigma2)/2\n",
    "        if i-parameter_0[3]<0:\n",
    "            S = 1\n",
    "        else:\n",
    "            S = 0\n",
    "        sigma2 = parameter_0[0]+parameter_0[1]*(i-parameter_0[3])*(i-parameter_0[3])+parameter_0[4]*S*(i-parameter_0[3])*(i-parameter_0[3])+parameter_0[2]*sigma2\n",
    "    return result\n",
    "\n",
    "res_TGARCH = minimize(L_TGARCH, parameter_TGARCH, method='nelder-mead',\n",
    "                options={'xtol': 1e-9, 'disp': True, 'maxiter': 1000})\n",
    "res_TGARCH"
   ]
  },
  {
   "cell_type": "code",
   "execution_count": 19,
   "metadata": {
    "colab": {
     "base_uri": "https://localhost:8080/",
     "height": 51
    },
    "colab_type": "code",
    "executionInfo": {
     "elapsed": 38886,
     "status": "ok",
     "timestamp": 1577124536789,
     "user": {
      "displayName": "Yuqing Wang",
      "photoUrl": "",
      "userId": "11167574284643904802"
     },
     "user_tz": 300
    },
    "id": "ZBaS0tN3fBek",
    "outputId": "55763574-05a6-4d14-f9f2-3b97f9d12b4b"
   },
   "outputs": [
    {
     "data": {
      "text/plain": [
       "TGARCH_estimated_vol    0.0004\n",
       "dtype: float64"
      ]
     },
     "execution_count": 19,
     "metadata": {},
     "output_type": "execute_result"
    }
   ],
   "source": [
    "TGARCH_estimated_vol = []\n",
    "sigma2 = vol*vol\n",
    "for i in FB_return:\n",
    "    if i-res_TGARCH.x[3]<0:\n",
    "        S = 1\n",
    "    else:\n",
    "        S = 0\n",
    "    sigma2 = res_TGARCH.x[0]+res_TGARCH.x[1]*(i-res_TGARCH.x[3])*(i-res_TGARCH.x[3])+res_TGARCH.x[4]*S*(i-res_TGARCH.x[3])*(i-res_TGARCH.x[3])+res_TGARCH.x[2]*sigma2\n",
    "    TGARCH_estimated_vol.append(sigma2)\n",
    "TGARCH_estimated_vol.pop\n",
    "TGARCH_estimated_vol = pd.DataFrame(TGARCH_estimated_vol, index = FB_return.index, columns = ['TGARCH_estimated_vol'])\n",
    "TGARCH_estimated_vol.mean()"
   ]
  },
  {
   "cell_type": "code",
   "execution_count": 30,
   "metadata": {
    "colab": {},
    "colab_type": "code",
    "id": "CSgc5oR0P-i6"
   },
   "outputs": [],
   "source": [
    "#np.sqrt(TGARCH_estimated_vol*252).to_pickle('Estimated Volatility/FB_TGARCH_estimated_vol.pkl')"
   ]
  },
  {
   "cell_type": "markdown",
   "metadata": {
    "colab_type": "text",
    "id": "s1OEPKzUacMm"
   },
   "source": [
    "## IGARCH"
   ]
  },
  {
   "cell_type": "code",
   "execution_count": 21,
   "metadata": {
    "colab": {
     "base_uri": "https://localhost:8080/",
     "height": 306
    },
    "colab_type": "code",
    "executionInfo": {
     "elapsed": 42875,
     "status": "ok",
     "timestamp": 1577124540794,
     "user": {
      "displayName": "Yuqing Wang",
      "photoUrl": "",
      "userId": "11167574284643904802"
     },
     "user_tz": 300
    },
    "id": "7-hzqd3sZP1o",
    "outputId": "50ac440b-37fa-40ba-a888-57c80ce7121e"
   },
   "outputs": [
    {
     "name": "stderr",
     "output_type": "stream",
     "text": [
      "/Users/yuqingwang/opt/anaconda3/lib/python3.7/site-packages/ipykernel_launcher.py:8: RuntimeWarning: invalid value encountered in log\n",
      "  \n"
     ]
    },
    {
     "name": "stdout",
     "output_type": "stream",
     "text": [
      "Optimization terminated successfully.\n",
      "         Current function value: -2543.009931\n",
      "         Iterations: 289\n",
      "         Function evaluations: 544\n"
     ]
    },
    {
     "data": {
      "text/plain": [
       " final_simplex: (array([[6.14929746e-05, 5.34975569e-01, 7.77054206e-05],\n",
       "       [6.14929747e-05, 5.34975568e-01, 7.77054197e-05],\n",
       "       [6.14929746e-05, 5.34975569e-01, 7.77054163e-05],\n",
       "       [6.14929744e-05, 5.34975570e-01, 7.77054200e-05]]), array([-2543.00993063, -2543.00993063, -2543.00993063, -2543.00993063]))\n",
       "           fun: -2543.0099306319757\n",
       "       message: 'Optimization terminated successfully.'\n",
       "          nfev: 544\n",
       "           nit: 289\n",
       "        status: 0\n",
       "       success: True\n",
       "             x: array([6.14929746e-05, 5.34975569e-01, 7.77054206e-05])"
      ]
     },
     "execution_count": 21,
     "metadata": {},
     "output_type": "execute_result"
    }
   ],
   "source": [
    "parameter_IGARCH = np.array([vol,0.66,FB_return_mean])#alfa_0,beta_1,miu\n",
    "\n",
    "\n",
    "def L_IGARCH (parameter_0):\n",
    "    result = 0\n",
    "    sigma2 = vol*vol\n",
    "    for i in FB_return.loc[FB_return.index<pd.to_datetime('2019-11-18')]:\n",
    "        result = result + np.log(2*math.pi)/2 + np.log(sigma2)/2 + (i-parameter_0[2])*(i-parameter_0[2])/(sigma2)/2\n",
    "        sigma2 = parameter_0[0]+(1-parameter_0[1])*(i-parameter_0[2])*(i-parameter_0[2])+parameter_0[1]*sigma2\n",
    "    return result\n",
    "\n",
    "res_IGARCH = minimize(L_IGARCH, parameter_IGARCH, method='nelder-mead',\n",
    "                options={'xtol': 1e-9, 'disp': True, 'maxiter': 1000})\n",
    "res_IGARCH"
   ]
  },
  {
   "cell_type": "code",
   "execution_count": 22,
   "metadata": {
    "colab": {
     "base_uri": "https://localhost:8080/",
     "height": 51
    },
    "colab_type": "code",
    "executionInfo": {
     "elapsed": 42863,
     "status": "ok",
     "timestamp": 1577124540796,
     "user": {
      "displayName": "Yuqing Wang",
      "photoUrl": "",
      "userId": "11167574284643904802"
     },
     "user_tz": 300
    },
    "id": "O1FkiWCCfVUd",
    "outputId": "b57da907-d071-48e6-e3b0-8a20f30a2130"
   },
   "outputs": [
    {
     "data": {
      "text/plain": [
       "IGARCH_estimated_vol    0.000468\n",
       "dtype: float64"
      ]
     },
     "execution_count": 22,
     "metadata": {},
     "output_type": "execute_result"
    }
   ],
   "source": [
    "IGARCH_estimated_vol = []\n",
    "sigma2 = vol*vol\n",
    "for i in FB_return:\n",
    "    sigma2 = res_IGARCH.x[0]+(1-res_IGARCH.x[1])*(i-res_IGARCH.x[2])*(i-res_IGARCH.x[2])+res_IGARCH.x[1]*sigma2\n",
    "    IGARCH_estimated_vol.append(sigma2)\n",
    "IGARCH_estimated_vol.pop\n",
    "IGARCH_estimated_vol = pd.DataFrame(IGARCH_estimated_vol, index = FB_return.index, columns = ['IGARCH_estimated_vol'])\n",
    "IGARCH_estimated_vol.mean()"
   ]
  },
  {
   "cell_type": "code",
   "execution_count": 31,
   "metadata": {
    "colab": {},
    "colab_type": "code",
    "id": "_IFouudCmtky"
   },
   "outputs": [],
   "source": [
    "#np.sqrt(IGARCH_estimated_vol*252).to_pickle('Estimated Volatility/FB_IGARCH_estimated_vol.pkl')"
   ]
  },
  {
   "cell_type": "code",
   "execution_count": 24,
   "metadata": {
    "colab": {
     "base_uri": "https://localhost:8080/",
     "height": 34
    },
    "colab_type": "code",
    "executionInfo": {
     "elapsed": 331,
     "status": "ok",
     "timestamp": 1577124621018,
     "user": {
      "displayName": "Yuqing Wang",
      "photoUrl": "",
      "userId": "11167574284643904802"
     },
     "user_tz": 300
    },
    "id": "ctpsgqWCQLxO",
    "outputId": "3503a4cf-df76-4a31-89cf-1a9632815b70"
   },
   "outputs": [
    {
     "data": {
      "text/plain": [
       "12.812727982505997"
      ]
     },
     "execution_count": 24,
     "metadata": {},
     "output_type": "execute_result"
    }
   ],
   "source": [
    "-np.log(-res_ARCH.fun)+3*np.log(975)"
   ]
  },
  {
   "cell_type": "code",
   "execution_count": 25,
   "metadata": {
    "colab": {
     "base_uri": "https://localhost:8080/",
     "height": 34
    },
    "colab_type": "code",
    "executionInfo": {
     "elapsed": 346,
     "status": "ok",
     "timestamp": 1577124665870,
     "user": {
      "displayName": "Yuqing Wang",
      "photoUrl": "",
      "userId": "11167574284643904802"
     },
     "user_tz": 300
    },
    "id": "FNYAP9Cu8t7W",
    "outputId": "267cf01d-e581-49b9-ce8b-131ae998a61a"
   },
   "outputs": [
    {
     "data": {
      "text/plain": [
       "19.68754447184735"
      ]
     },
     "execution_count": 25,
     "metadata": {},
     "output_type": "execute_result"
    }
   ],
   "source": [
    "-np.log(-res_GARCH.fun)+4*np.log(975)"
   ]
  },
  {
   "cell_type": "code",
   "execution_count": 26,
   "metadata": {
    "colab": {
     "base_uri": "https://localhost:8080/",
     "height": 34
    },
    "colab_type": "code",
    "executionInfo": {
     "elapsed": 346,
     "status": "ok",
     "timestamp": 1577124686293,
     "user": {
      "displayName": "Yuqing Wang",
      "photoUrl": "",
      "userId": "11167574284643904802"
     },
     "user_tz": 300
    },
    "id": "02SeTy8b9JgJ",
    "outputId": "3b21737c-f7b4-4b29-d8bd-be5566c49158"
   },
   "outputs": [
    {
     "data": {
      "text/plain": [
       "26.56969358307158"
      ]
     },
     "execution_count": 26,
     "metadata": {},
     "output_type": "execute_result"
    }
   ],
   "source": [
    "-np.log(-res_TGARCH.fun)+5*np.log(975)"
   ]
  },
  {
   "cell_type": "code",
   "execution_count": 27,
   "metadata": {
    "colab": {
     "base_uri": "https://localhost:8080/",
     "height": 34
    },
    "colab_type": "code",
    "executionInfo": {
     "elapsed": 348,
     "status": "ok",
     "timestamp": 1577124706248,
     "user": {
      "displayName": "Yuqing Wang",
      "photoUrl": "",
      "userId": "11167574284643904802"
     },
     "user_tz": 300
    },
    "id": "GdWg4Bb69OfY",
    "outputId": "1f79e16a-117c-4c1e-a258-36ce47603ae3"
   },
   "outputs": [
    {
     "data": {
      "text/plain": [
       "12.806208742493725"
      ]
     },
     "execution_count": 27,
     "metadata": {},
     "output_type": "execute_result"
    }
   ],
   "source": [
    "-np.log(-res_IGARCH.fun)+3*np.log(975)"
   ]
  }
 ],
 "metadata": {
  "colab": {
   "name": "MODEL_FB.ipynb",
   "provenance": []
  },
  "kernelspec": {
   "display_name": "Python 3",
   "language": "python",
   "name": "python3"
  },
  "language_info": {
   "codemirror_mode": {
    "name": "ipython",
    "version": 3
   },
   "file_extension": ".py",
   "mimetype": "text/x-python",
   "name": "python",
   "nbconvert_exporter": "python",
   "pygments_lexer": "ipython3",
   "version": "3.7.4"
  }
 },
 "nbformat": 4,
 "nbformat_minor": 1
}
