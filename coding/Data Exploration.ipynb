{
 "cells": [
  {
   "cell_type": "code",
   "execution_count": 1,
   "metadata": {
    "colab": {
     "base_uri": "https://localhost:8080/",
     "height": 34
    },
    "colab_type": "code",
    "executionInfo": {
     "elapsed": 903,
     "status": "ok",
     "timestamp": 1577124062473,
     "user": {
      "displayName": "Yuqing Wang",
      "photoUrl": "",
      "userId": "11167574284643904802"
     },
     "user_tz": 300
    },
    "id": "Eh75zystfkrD",
    "outputId": "388a5d0a-0bf2-4a0d-e586-858a71f999fa"
   },
   "outputs": [
    {
     "name": "stdout",
     "output_type": "stream",
     "text": [
      "/Users/yuqingwang/Desktop/Time Series Final\n",
      "/Users/yuqingwang/Desktop/Time Series Final/data\n"
     ]
    }
   ],
   "source": [
    "%cd ..\n",
    "%cd data"
   ]
  },
  {
   "cell_type": "code",
   "execution_count": 2,
   "metadata": {
    "colab": {},
    "colab_type": "code",
    "id": "wgKZP96_fsg1"
   },
   "outputs": [],
   "source": [
    "import numpy as np\n",
    "import pandas as pd\n",
    "import matplotlib.pyplot as plt\n",
    "%matplotlib inline\n",
    "import statsmodels.api as sm\n",
    "import datetime\n",
    "from scipy.stats import kurtosis\n",
    "from statsmodels.tsa.stattools import acf\n",
    "from statsmodels.tsa.stattools import pacf"
   ]
  },
  {
   "cell_type": "code",
   "execution_count": 3,
   "metadata": {
    "colab": {
     "base_uri": "https://localhost:8080/",
     "height": 419
    },
    "colab_type": "code",
    "executionInfo": {
     "elapsed": 2275,
     "status": "ok",
     "timestamp": 1577050052904,
     "user": {
      "displayName": "Yuqing Wang",
      "photoUrl": "",
      "userId": "11167574284643904802"
     },
     "user_tz": 300
    },
    "id": "k8tRdX3ffusF",
    "outputId": "04f50a90-c401-43c4-85f0-337d9d7773d2"
   },
   "outputs": [
    {
     "data": {
      "text/html": [
       "<div>\n",
       "<style scoped>\n",
       "    .dataframe tbody tr th:only-of-type {\n",
       "        vertical-align: middle;\n",
       "    }\n",
       "\n",
       "    .dataframe tbody tr th {\n",
       "        vertical-align: top;\n",
       "    }\n",
       "\n",
       "    .dataframe thead th {\n",
       "        text-align: right;\n",
       "    }\n",
       "</style>\n",
       "<table border=\"1\" class=\"dataframe\">\n",
       "  <thead>\n",
       "    <tr style=\"text-align: right;\">\n",
       "      <th></th>\n",
       "      <th>Date</th>\n",
       "      <th>Open</th>\n",
       "      <th>High</th>\n",
       "      <th>Low</th>\n",
       "      <th>Close</th>\n",
       "      <th>Volume</th>\n",
       "    </tr>\n",
       "  </thead>\n",
       "  <tbody>\n",
       "    <tr>\n",
       "      <td>0</td>\n",
       "      <td>2019-12-16 11:50:00</td>\n",
       "      <td>196.870</td>\n",
       "      <td>196.9800</td>\n",
       "      <td>196.6178</td>\n",
       "      <td>196.7900</td>\n",
       "      <td>193800</td>\n",
       "    </tr>\n",
       "    <tr>\n",
       "      <td>1</td>\n",
       "      <td>2019-12-16 11:40:00</td>\n",
       "      <td>197.240</td>\n",
       "      <td>197.2724</td>\n",
       "      <td>196.8500</td>\n",
       "      <td>196.8590</td>\n",
       "      <td>267280</td>\n",
       "    </tr>\n",
       "    <tr>\n",
       "      <td>2</td>\n",
       "      <td>2019-12-16 11:30:00</td>\n",
       "      <td>197.740</td>\n",
       "      <td>197.7811</td>\n",
       "      <td>197.2200</td>\n",
       "      <td>197.2556</td>\n",
       "      <td>207431</td>\n",
       "    </tr>\n",
       "    <tr>\n",
       "      <td>3</td>\n",
       "      <td>2019-12-16 11:20:00</td>\n",
       "      <td>197.700</td>\n",
       "      <td>197.8900</td>\n",
       "      <td>197.5100</td>\n",
       "      <td>197.7500</td>\n",
       "      <td>186657</td>\n",
       "    </tr>\n",
       "    <tr>\n",
       "      <td>4</td>\n",
       "      <td>2019-12-16 11:10:00</td>\n",
       "      <td>198.175</td>\n",
       "      <td>198.2100</td>\n",
       "      <td>197.6100</td>\n",
       "      <td>197.6800</td>\n",
       "      <td>217699</td>\n",
       "    </tr>\n",
       "    <tr>\n",
       "      <td>...</td>\n",
       "      <td>...</td>\n",
       "      <td>...</td>\n",
       "      <td>...</td>\n",
       "      <td>...</td>\n",
       "      <td>...</td>\n",
       "      <td>...</td>\n",
       "    </tr>\n",
       "    <tr>\n",
       "      <td>2843</td>\n",
       "      <td>2019-09-03 10:10:00</td>\n",
       "      <td>183.980</td>\n",
       "      <td>184.2690</td>\n",
       "      <td>183.8200</td>\n",
       "      <td>183.9300</td>\n",
       "      <td>196396</td>\n",
       "    </tr>\n",
       "    <tr>\n",
       "      <td>2844</td>\n",
       "      <td>2019-09-03 10:00:00</td>\n",
       "      <td>184.980</td>\n",
       "      <td>185.0600</td>\n",
       "      <td>183.6600</td>\n",
       "      <td>183.9900</td>\n",
       "      <td>372528</td>\n",
       "    </tr>\n",
       "    <tr>\n",
       "      <td>2845</td>\n",
       "      <td>2019-09-03 09:50:00</td>\n",
       "      <td>185.290</td>\n",
       "      <td>185.4700</td>\n",
       "      <td>184.9700</td>\n",
       "      <td>185.0258</td>\n",
       "      <td>170776</td>\n",
       "    </tr>\n",
       "    <tr>\n",
       "      <td>2846</td>\n",
       "      <td>2019-09-03 09:40:00</td>\n",
       "      <td>185.500</td>\n",
       "      <td>185.6700</td>\n",
       "      <td>184.8000</td>\n",
       "      <td>185.2500</td>\n",
       "      <td>275100</td>\n",
       "    </tr>\n",
       "    <tr>\n",
       "      <td>2847</td>\n",
       "      <td>2019-09-03 09:30:00</td>\n",
       "      <td>184.000</td>\n",
       "      <td>185.6286</td>\n",
       "      <td>183.8600</td>\n",
       "      <td>185.5500</td>\n",
       "      <td>528157</td>\n",
       "    </tr>\n",
       "  </tbody>\n",
       "</table>\n",
       "<p>2848 rows × 6 columns</p>\n",
       "</div>"
      ],
      "text/plain": [
       "                    Date     Open      High       Low     Close  Volume\n",
       "0    2019-12-16 11:50:00  196.870  196.9800  196.6178  196.7900  193800\n",
       "1    2019-12-16 11:40:00  197.240  197.2724  196.8500  196.8590  267280\n",
       "2    2019-12-16 11:30:00  197.740  197.7811  197.2200  197.2556  207431\n",
       "3    2019-12-16 11:20:00  197.700  197.8900  197.5100  197.7500  186657\n",
       "4    2019-12-16 11:10:00  198.175  198.2100  197.6100  197.6800  217699\n",
       "...                  ...      ...       ...       ...       ...     ...\n",
       "2843 2019-09-03 10:10:00  183.980  184.2690  183.8200  183.9300  196396\n",
       "2844 2019-09-03 10:00:00  184.980  185.0600  183.6600  183.9900  372528\n",
       "2845 2019-09-03 09:50:00  185.290  185.4700  184.9700  185.0258  170776\n",
       "2846 2019-09-03 09:40:00  185.500  185.6700  184.8000  185.2500  275100\n",
       "2847 2019-09-03 09:30:00  184.000  185.6286  183.8600  185.5500  528157\n",
       "\n",
       "[2848 rows x 6 columns]"
      ]
     },
     "execution_count": 3,
     "metadata": {},
     "output_type": "execute_result"
    }
   ],
   "source": [
    "FB_Stock = pd.read_excel('High_Frequency_Data.xlsx',sheet_name=3)\n",
    "FB_Stock"
   ]
  },
  {
   "cell_type": "code",
   "execution_count": 4,
   "metadata": {
    "colab": {},
    "colab_type": "code",
    "id": "DrpB6YUxfws6"
   },
   "outputs": [],
   "source": [
    "FB_Stock['Date'] = pd.to_datetime(FB_Stock['Date'])"
   ]
  },
  {
   "cell_type": "code",
   "execution_count": 5,
   "metadata": {
    "colab": {},
    "colab_type": "code",
    "id": "Mr_FLnaGho_c"
   },
   "outputs": [],
   "source": [
    "FB_Stock.set_index(['Date'],inplace=True)"
   ]
  },
  {
   "cell_type": "code",
   "execution_count": 6,
   "metadata": {
    "colab": {},
    "colab_type": "code",
    "id": "9MtZAHpAkOA6"
   },
   "outputs": [],
   "source": [
    "FB_Stock.sort_index(inplace=True)"
   ]
  },
  {
   "cell_type": "code",
   "execution_count": 7,
   "metadata": {
    "colab": {
     "base_uri": "https://localhost:8080/",
     "height": 85
    },
    "colab_type": "code",
    "executionInfo": {
     "elapsed": 1190,
     "status": "ok",
     "timestamp": 1577050052913,
     "user": {
      "displayName": "Yuqing Wang",
      "photoUrl": "",
      "userId": "11167574284643904802"
     },
     "user_tz": 300
    },
    "id": "yMziSnPFa-sG",
    "outputId": "452ca5f6-3cc4-462d-a11b-5e991f4a4041"
   },
   "outputs": [
    {
     "data": {
      "text/plain": [
       "array([datetime.date(2019, 9, 3), datetime.date(2019, 9, 3),\n",
       "       datetime.date(2019, 9, 3), ..., datetime.date(2019, 12, 16),\n",
       "       datetime.date(2019, 12, 16), datetime.date(2019, 12, 16)],\n",
       "      dtype=object)"
      ]
     },
     "execution_count": 7,
     "metadata": {},
     "output_type": "execute_result"
    }
   ],
   "source": [
    "FB_Stock.index.date"
   ]
  },
  {
   "cell_type": "code",
   "execution_count": 8,
   "metadata": {
    "colab": {
     "base_uri": "https://localhost:8080/",
     "height": 450
    },
    "colab_type": "code",
    "executionInfo": {
     "elapsed": 967,
     "status": "ok",
     "timestamp": 1577050052914,
     "user": {
      "displayName": "Yuqing Wang",
      "photoUrl": "",
      "userId": "11167574284643904802"
     },
     "user_tz": 300
    },
    "id": "7lZwdjo-hxj_",
    "outputId": "835f11b7-a9b7-40e4-95a2-8ff95e2f1c58"
   },
   "outputs": [
    {
     "data": {
      "text/html": [
       "<div>\n",
       "<style scoped>\n",
       "    .dataframe tbody tr th:only-of-type {\n",
       "        vertical-align: middle;\n",
       "    }\n",
       "\n",
       "    .dataframe tbody tr th {\n",
       "        vertical-align: top;\n",
       "    }\n",
       "\n",
       "    .dataframe thead th {\n",
       "        text-align: right;\n",
       "    }\n",
       "</style>\n",
       "<table border=\"1\" class=\"dataframe\">\n",
       "  <thead>\n",
       "    <tr style=\"text-align: right;\">\n",
       "      <th></th>\n",
       "      <th>Open</th>\n",
       "      <th>High</th>\n",
       "      <th>Low</th>\n",
       "      <th>Close</th>\n",
       "      <th>Volume</th>\n",
       "    </tr>\n",
       "    <tr>\n",
       "      <th>Date</th>\n",
       "      <th></th>\n",
       "      <th></th>\n",
       "      <th></th>\n",
       "      <th></th>\n",
       "      <th></th>\n",
       "    </tr>\n",
       "  </thead>\n",
       "  <tbody>\n",
       "    <tr>\n",
       "      <td>2019-09-03 09:30:00</td>\n",
       "      <td>184.0000</td>\n",
       "      <td>185.6286</td>\n",
       "      <td>183.86</td>\n",
       "      <td>185.5500</td>\n",
       "      <td>528157</td>\n",
       "    </tr>\n",
       "    <tr>\n",
       "      <td>2019-09-03 09:40:00</td>\n",
       "      <td>185.5000</td>\n",
       "      <td>185.6700</td>\n",
       "      <td>184.80</td>\n",
       "      <td>185.2500</td>\n",
       "      <td>275100</td>\n",
       "    </tr>\n",
       "    <tr>\n",
       "      <td>2019-09-03 09:50:00</td>\n",
       "      <td>185.2900</td>\n",
       "      <td>185.4700</td>\n",
       "      <td>184.97</td>\n",
       "      <td>185.0258</td>\n",
       "      <td>170776</td>\n",
       "    </tr>\n",
       "    <tr>\n",
       "      <td>2019-09-03 10:00:00</td>\n",
       "      <td>184.9800</td>\n",
       "      <td>185.0600</td>\n",
       "      <td>183.66</td>\n",
       "      <td>183.9900</td>\n",
       "      <td>372528</td>\n",
       "    </tr>\n",
       "    <tr>\n",
       "      <td>2019-09-03 10:10:00</td>\n",
       "      <td>183.9800</td>\n",
       "      <td>184.2690</td>\n",
       "      <td>183.82</td>\n",
       "      <td>183.9300</td>\n",
       "      <td>196396</td>\n",
       "    </tr>\n",
       "    <tr>\n",
       "      <td>...</td>\n",
       "      <td>...</td>\n",
       "      <td>...</td>\n",
       "      <td>...</td>\n",
       "      <td>...</td>\n",
       "      <td>...</td>\n",
       "    </tr>\n",
       "    <tr>\n",
       "      <td>2019-11-15 15:10:00</td>\n",
       "      <td>194.7300</td>\n",
       "      <td>194.7600</td>\n",
       "      <td>194.56</td>\n",
       "      <td>194.7000</td>\n",
       "      <td>98785</td>\n",
       "    </tr>\n",
       "    <tr>\n",
       "      <td>2019-11-15 15:20:00</td>\n",
       "      <td>194.6927</td>\n",
       "      <td>194.7900</td>\n",
       "      <td>194.63</td>\n",
       "      <td>194.7000</td>\n",
       "      <td>108485</td>\n",
       "    </tr>\n",
       "    <tr>\n",
       "      <td>2019-11-15 15:30:00</td>\n",
       "      <td>194.7100</td>\n",
       "      <td>195.0000</td>\n",
       "      <td>194.65</td>\n",
       "      <td>194.9900</td>\n",
       "      <td>135759</td>\n",
       "    </tr>\n",
       "    <tr>\n",
       "      <td>2019-11-15 15:40:00</td>\n",
       "      <td>194.9900</td>\n",
       "      <td>195.1000</td>\n",
       "      <td>194.85</td>\n",
       "      <td>195.0650</td>\n",
       "      <td>349884</td>\n",
       "    </tr>\n",
       "    <tr>\n",
       "      <td>2019-11-15 15:50:00</td>\n",
       "      <td>195.0600</td>\n",
       "      <td>195.1000</td>\n",
       "      <td>194.88</td>\n",
       "      <td>195.1000</td>\n",
       "      <td>2129344</td>\n",
       "    </tr>\n",
       "  </tbody>\n",
       "</table>\n",
       "<p>2106 rows × 5 columns</p>\n",
       "</div>"
      ],
      "text/plain": [
       "                         Open      High     Low     Close   Volume\n",
       "Date                                                              \n",
       "2019-09-03 09:30:00  184.0000  185.6286  183.86  185.5500   528157\n",
       "2019-09-03 09:40:00  185.5000  185.6700  184.80  185.2500   275100\n",
       "2019-09-03 09:50:00  185.2900  185.4700  184.97  185.0258   170776\n",
       "2019-09-03 10:00:00  184.9800  185.0600  183.66  183.9900   372528\n",
       "2019-09-03 10:10:00  183.9800  184.2690  183.82  183.9300   196396\n",
       "...                       ...       ...     ...       ...      ...\n",
       "2019-11-15 15:10:00  194.7300  194.7600  194.56  194.7000    98785\n",
       "2019-11-15 15:20:00  194.6927  194.7900  194.63  194.7000   108485\n",
       "2019-11-15 15:30:00  194.7100  195.0000  194.65  194.9900   135759\n",
       "2019-11-15 15:40:00  194.9900  195.1000  194.85  195.0650   349884\n",
       "2019-11-15 15:50:00  195.0600  195.1000  194.88  195.1000  2129344\n",
       "\n",
       "[2106 rows x 5 columns]"
      ]
     },
     "execution_count": 8,
     "metadata": {},
     "output_type": "execute_result"
    }
   ],
   "source": [
    "FB_Stock.loc[FB_Stock.index.date < pd.to_datetime('2019-11-18')]"
   ]
  },
  {
   "cell_type": "code",
   "execution_count": 9,
   "metadata": {
    "colab": {
     "base_uri": "https://localhost:8080/",
     "height": 301
    },
    "colab_type": "code",
    "executionInfo": {
     "elapsed": 1037,
     "status": "ok",
     "timestamp": 1577050053193,
     "user": {
      "displayName": "Yuqing Wang",
      "photoUrl": "",
      "userId": "11167574284643904802"
     },
     "user_tz": 300
    },
    "id": "uAkjrvX0jque",
    "outputId": "5afaf455-edc6-4093-d8bf-354715f92144"
   },
   "outputs": [
    {
     "data": {
      "image/png": "[encoded data removed]",
      "text/plain": [
       "<Figure size 432x288 with 1 Axes>"
      ]
     },
     "metadata": {
      "needs_background": "light"
     },
     "output_type": "display_data"
    }
   ],
   "source": [
    "_ = FB_Stock.loc[FB_Stock.index.date < pd.to_datetime('2019-11-18')]['Close'].plot()\n",
    "_ = plt.title('10 Minutes FB Stock Price')\n",
    "#_ = plt.savefig('graph/10 Minutes FB Stock Price')"
   ]
  },
  {
   "cell_type": "code",
   "execution_count": 10,
   "metadata": {
    "colab": {
     "base_uri": "https://localhost:8080/",
     "height": 281
    },
    "colab_type": "code",
    "executionInfo": {
     "elapsed": 819,
     "status": "ok",
     "timestamp": 1577050053195,
     "user": {
      "displayName": "Yuqing Wang",
      "photoUrl": "",
      "userId": "11167574284643904802"
     },
     "user_tz": 300
    },
    "id": "FLJG1bREEhN-",
    "outputId": "eb30cbe1-4c88-407c-fdac-9bbede2963b1"
   },
   "outputs": [
    {
     "data": {
      "image/png": "[encoded data removed]",
      "text/plain": [
       "<Figure size 432x288 with 1 Axes>"
      ]
     },
     "metadata": {
      "needs_background": "light"
     },
     "output_type": "display_data"
    }
   ],
   "source": [
    "_ = sm.graphics.tsa.plot_acf(FB_Stock.loc[FB_Stock.index.date < pd.to_datetime('2019-11-18')]['Close'].values, lags=40)"
   ]
  },
  {
   "cell_type": "code",
   "execution_count": 11,
   "metadata": {
    "colab": {
     "base_uri": "https://localhost:8080/",
     "height": 281
    },
    "colab_type": "code",
    "executionInfo": {
     "elapsed": 1076,
     "status": "ok",
     "timestamp": 1577050053703,
     "user": {
      "displayName": "Yuqing Wang",
      "photoUrl": "",
      "userId": "11167574284643904802"
     },
     "user_tz": 300
    },
    "id": "SttkjkkV2Rns",
    "outputId": "2b84f66f-d596-4a34-825c-0cf6f7593a11"
   },
   "outputs": [
    {
     "data": {
      "image/png": "[encoded data removed]",
      "text/plain": [
       "<Figure size 432x288 with 1 Axes>"
      ]
     },
     "metadata": {
      "needs_background": "light"
     },
     "output_type": "display_data"
    }
   ],
   "source": [
    "_ = sm.graphics.tsa.plot_pacf(FB_Stock.loc[FB_Stock.index.date < pd.to_datetime('2019-11-18')]['Close'].values, lags=40)"
   ]
  },
  {
   "cell_type": "code",
   "execution_count": 12,
   "metadata": {
    "colab": {
     "base_uri": "https://localhost:8080/",
     "height": 238
    },
    "colab_type": "code",
    "executionInfo": {
     "elapsed": 911,
     "status": "ok",
     "timestamp": 1577124155248,
     "user": {
      "displayName": "Yuqing Wang",
      "photoUrl": "",
      "userId": "11167574284643904802"
     },
     "user_tz": 300
    },
    "id": "3-1Yt--gBe2D",
    "outputId": "d675f4ee-2c39-4915-8911-e94306e1e705"
   },
   "outputs": [
    {
     "data": {
      "text/plain": [
       "Date\n",
       "2016-01-04    102.220001\n",
       "2016-01-05    102.730003\n",
       "2016-01-06    102.970001\n",
       "2016-01-07     97.919998\n",
       "2016-01-08     97.330002\n",
       "                 ...    \n",
       "2019-12-16    197.919998\n",
       "2019-12-17    198.389999\n",
       "2019-12-18    202.500000\n",
       "2019-12-19    206.059998\n",
       "2019-12-20    206.300003\n",
       "Name: Close, Length: 1000, dtype: float64"
      ]
     },
     "execution_count": 12,
     "metadata": {},
     "output_type": "execute_result"
    }
   ],
   "source": [
    "FB_Stock = pd.read_csv('../data/FB.csv')\n",
    "FB_Stock['Date'] = pd.to_datetime(FB_Stock['Date'])\n",
    "FB_Stock.set_index(['Date'],inplace=True)\n",
    "FB_Stock = FB_Stock['Close']\n",
    "FB_Stock"
   ]
  },
  {
   "cell_type": "code",
   "execution_count": 13,
   "metadata": {
    "colab": {
     "base_uri": "https://localhost:8080/",
     "height": 293
    },
    "colab_type": "code",
    "executionInfo": {
     "elapsed": 659,
     "status": "ok",
     "timestamp": 1577050184167,
     "user": {
      "displayName": "Yuqing Wang",
      "photoUrl": "",
      "userId": "11167574284643904802"
     },
     "user_tz": 300
    },
    "id": "inGyZW9IZgPi",
    "outputId": "ad9541a7-0d2f-4b80-c30b-700beed95ffd"
   },
   "outputs": [
    {
     "data": {
      "image/png": "[encoded data removed]",
      "text/plain": [
       "<Figure size 432x288 with 1 Axes>"
      ]
     },
     "metadata": {
      "needs_background": "light"
     },
     "output_type": "display_data"
    }
   ],
   "source": [
    "_ = FB_Stock.loc[FB_Stock.index.date < pd.to_datetime('2019-11-18')].plot()\n",
    "_ = plt.title('Daily FB Stock Price')\n",
    "#_ = plt.savefig('graph/Daily FB Stock Price')"
   ]
  },
  {
   "cell_type": "markdown",
   "metadata": {
    "colab_type": "text",
    "id": "NdR5W-Bnfgxq"
   },
   "source": [
    "# log return"
   ]
  },
  {
   "cell_type": "code",
   "execution_count": 14,
   "metadata": {
    "colab": {},
    "colab_type": "code",
    "id": "CXRx2e7Abd_p"
   },
   "outputs": [],
   "source": [
    "FB_Stock_return = np.log(FB_Stock/FB_Stock.shift())"
   ]
  },
  {
   "cell_type": "code",
   "execution_count": 15,
   "metadata": {
    "colab": {},
    "colab_type": "code",
    "id": "0kDW4rDWcLBw"
   },
   "outputs": [],
   "source": [
    "FB_Stock_return.dropna(inplace = True)"
   ]
  },
  {
   "cell_type": "code",
   "execution_count": 16,
   "metadata": {
    "colab": {
     "base_uri": "https://localhost:8080/",
     "height": 293
    },
    "colab_type": "code",
    "executionInfo": {
     "elapsed": 650,
     "status": "ok",
     "timestamp": 1577051296475,
     "user": {
      "displayName": "Yuqing Wang",
      "photoUrl": "",
      "userId": "11167574284643904802"
     },
     "user_tz": 300
    },
    "id": "Pu9Bued4cet5",
    "outputId": "5b80e2b3-0d5e-4277-acae-6c177c2992b2"
   },
   "outputs": [
    {
     "data": {
      "image/png": "[encoded data removed]",
      "text/plain": [
       "<Figure size 432x288 with 1 Axes>"
      ]
     },
     "metadata": {
      "needs_background": "light"
     },
     "output_type": "display_data"
    }
   ],
   "source": [
    "_ = FB_Stock_return.plot()\n",
    "_ = plt.title('FB Stock Return')\n",
    "#_ = plt.savefig('graph/FB Stock Return')"
   ]
  },
  {
   "cell_type": "code",
   "execution_count": 17,
   "metadata": {
    "colab": {
     "base_uri": "https://localhost:8080/",
     "height": 281
    },
    "colab_type": "code",
    "executionInfo": {
     "elapsed": 1555,
     "status": "ok",
     "timestamp": 1577050055897,
     "user": {
      "displayName": "Yuqing Wang",
      "photoUrl": "",
      "userId": "11167574284643904802"
     },
     "user_tz": 300
    },
    "id": "rRi1ijH3cgaP",
    "outputId": "8ef563c5-b782-493a-a81f-f01fe1c8ffbe"
   },
   "outputs": [
    {
     "data": {
      "image/png": "[encoded data removed]",
      "text/plain": [
       "<Figure size 432x288 with 1 Axes>"
      ]
     },
     "metadata": {
      "needs_background": "light"
     },
     "output_type": "display_data"
    }
   ],
   "source": [
    "_ = sm.graphics.tsa.plot_acf(FB_Stock_return.loc[FB_Stock_return.index.date < pd.to_datetime('2019-11-18')], lags=40,\n",
    "                             title = 'Daily FB Stock Autocorrelation')"
   ]
  },
  {
   "cell_type": "code",
   "execution_count": 18,
   "metadata": {
    "colab": {
     "base_uri": "https://localhost:8080/",
     "height": 281
    },
    "colab_type": "code",
    "executionInfo": {
     "elapsed": 535,
     "status": "ok",
     "timestamp": 1577051901305,
     "user": {
      "displayName": "Yuqing Wang",
      "photoUrl": "",
      "userId": "11167574284643904802"
     },
     "user_tz": 300
    },
    "id": "uH8DyW6xdHUV",
    "outputId": "dc8a5a6d-4617-4ecd-8a35-9eb90fbdaaef"
   },
   "outputs": [
    {
     "data": {
      "image/png": "[encoded data removed]",
      "text/plain": [
       "<Figure size 432x288 with 1 Axes>"
      ]
     },
     "metadata": {
      "needs_background": "light"
     },
     "output_type": "display_data"
    }
   ],
   "source": [
    "_ = sm.graphics.tsa.plot_acf(FB_Stock_return.loc[FB_Stock_return.index.date < pd.to_datetime('2019-11-18')], lags=40,\n",
    "                              title = 'Daily FB Stock Return Autocorrelation')\n",
    "#_ = plt.savefig('graph/Daily FB Stock Return Autocorrelation')"
   ]
  },
  {
   "cell_type": "code",
   "execution_count": 19,
   "metadata": {
    "colab": {
     "base_uri": "https://localhost:8080/",
     "height": 281
    },
    "colab_type": "code",
    "executionInfo": {
     "elapsed": 676,
     "status": "ok",
     "timestamp": 1577051901751,
     "user": {
      "displayName": "Yuqing Wang",
      "photoUrl": "",
      "userId": "11167574284643904802"
     },
     "user_tz": 300
    },
    "id": "PUMI5SzkmgpQ",
    "outputId": "46705b89-2370-422d-956f-9fcccc7a563e"
   },
   "outputs": [
    {
     "data": {
      "image/png": "[encoded data removed]",
      "text/plain": [
       "<Figure size 432x288 with 1 Axes>"
      ]
     },
     "metadata": {
      "needs_background": "light"
     },
     "output_type": "display_data"
    }
   ],
   "source": [
    "_ = sm.graphics.tsa.plot_acf(FB_Stock_return.loc[FB_Stock_return.index.date < pd.to_datetime('2019-11-18')]**2, lags=40,\n",
    "                              title = 'Daily FB Stock Square Return Autocorrelation')\n",
    "#_ = plt.savefig('graph/Daily FB Stock Square Return Autocorrelation')"
   ]
  },
  {
   "cell_type": "code",
   "execution_count": 20,
   "metadata": {
    "colab": {},
    "colab_type": "code",
    "id": "DvkZujnrf-xl"
   },
   "outputs": [],
   "source": [
    "volList = FB_Stock_return.loc[FB_Stock_return.index.date < pd.to_datetime('2019-11-18')].rolling(20).std(ddof=1)"
   ]
  },
  {
   "cell_type": "code",
   "execution_count": 21,
   "metadata": {
    "colab": {
     "base_uri": "https://localhost:8080/",
     "height": 293
    },
    "colab_type": "code",
    "executionInfo": {
     "elapsed": 667,
     "status": "ok",
     "timestamp": 1577052420186,
     "user": {
      "displayName": "Yuqing Wang",
      "photoUrl": "",
      "userId": "11167574284643904802"
     },
     "user_tz": 300
    },
    "id": "btrYC0OslwAD",
    "outputId": "cf9ba8f5-dc84-412f-df41-2df967c902b0"
   },
   "outputs": [
    {
     "data": {
      "image/png": "[encoded data removed]",
      "text/plain": [
       "<Figure size 432x288 with 1 Axes>"
      ]
     },
     "metadata": {
      "needs_background": "light"
     },
     "output_type": "display_data"
    }
   ],
   "source": [
    "_ = volList.plot()\n",
    "_ = plt.title('FB Stock Return Volatility (20 days)')\n",
    "_ = plt.ylabel('Std of Return (Rolling 20 days)')\n",
    "#_ = plt.savefig('graph/Std of Return (Rolling 20 days)')"
   ]
  },
  {
   "cell_type": "code",
   "execution_count": 22,
   "metadata": {
    "colab": {
     "base_uri": "https://localhost:8080/",
     "height": 34
    },
    "colab_type": "code",
    "executionInfo": {
     "elapsed": 1396,
     "status": "ok",
     "timestamp": 1577050056607,
     "user": {
      "displayName": "Yuqing Wang",
      "photoUrl": "",
      "userId": "11167574284643904802"
     },
     "user_tz": 300
    },
    "id": "x0vep37JlxOa",
    "outputId": "4e4ad799-6bb6-4019-be2e-36641361a539"
   },
   "outputs": [
    {
     "data": {
      "text/plain": [
       "23.289586380907306"
      ]
     },
     "execution_count": 22,
     "metadata": {},
     "output_type": "execute_result"
    }
   ],
   "source": [
    "kurtosis(FB_Stock_return.loc[FB_Stock_return.index.date < pd.to_datetime('2019-11-18')])"
   ]
  }
 ],
 "metadata": {
  "colab": {
   "name": "Data Exploration.ipynb",
   "provenance": []
  },
  "kernelspec": {
   "display_name": "Python 3",
   "language": "python",
   "name": "python3"
  },
  "language_info": {
   "codemirror_mode": {
    "name": "ipython",
    "version": 3
   },
   "file_extension": ".py",
   "mimetype": "text/x-python",
   "name": "python",
   "nbconvert_exporter": "python",
   "pygments_lexer": "ipython3",
   "version": "3.7.4"
  }
 },
 "nbformat": 4,
 "nbformat_minor": 1
}
