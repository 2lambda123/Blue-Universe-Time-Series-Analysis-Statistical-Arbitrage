{
 "cells": [
  {
   "cell_type": "code",
   "execution_count": 1,
   "metadata": {
    "colab": {
     "base_uri": "https://localhost:8080/",
     "height": 34
    },
    "colab_type": "code",
    "executionInfo": {
     "elapsed": 1282,
     "status": "ok",
     "timestamp": 1577079368217,
     "user": {
      "displayName": "Yuqing Wang",
      "photoUrl": "",
      "userId": "11167574284643904802"
     },
     "user_tz": 300
    },
    "id": "uNeYtSDiwIDZ",
    "outputId": "46106f2f-9896-4208-bdcb-c5e42b23058a"
   },
   "outputs": [
    {
     "name": "stdout",
     "output_type": "stream",
     "text": [
      "/Users/yuqingwang/Desktop/Time Series Final\n"
     ]
    }
   ],
   "source": [
    "%cd .."
   ]
  },
  {
   "cell_type": "code",
   "execution_count": 2,
   "metadata": {
    "colab": {},
    "colab_type": "code",
    "id": "aVHLA4hYwOdV"
   },
   "outputs": [],
   "source": [
    "import numpy as np\n",
    "import pandas as pd\n",
    "import matplotlib.pyplot as plt\n",
    "%matplotlib inline\n",
    "import math\n",
    "import statsmodels.api as sm\n",
    "from scipy.optimize import minimize"
   ]
  },
  {
   "cell_type": "code",
   "execution_count": 3,
   "metadata": {
    "colab": {},
    "colab_type": "code",
    "id": "2fCUyVTAwQOt"
   },
   "outputs": [],
   "source": [
    "def load_data(file):\n",
    "    Stock = pd.read_csv(file)\n",
    "    Stock['Date'] = pd.to_datetime(Stock['Date'])\n",
    "    Stock.set_index(['Date'],inplace=True)\n",
    "    Stock = Stock['Close']\n",
    "    Stock_return = np.log(Stock/Stock.shift())\n",
    "    Stock_return.dropna(inplace = True)\n",
    "    return Stock_return"
   ]
  },
  {
   "cell_type": "code",
   "execution_count": 4,
   "metadata": {
    "colab": {},
    "colab_type": "code",
    "id": "PUxeTr16wSL-"
   },
   "outputs": [],
   "source": [
    "NFLX_return = load_data('data/NFLX.csv')"
   ]
  },
  {
   "cell_type": "code",
   "execution_count": 5,
   "metadata": {
    "colab": {},
    "colab_type": "code",
    "id": "f-50_7RNwVzc"
   },
   "outputs": [],
   "source": [
    "NFLX_return_mean = NFLX_return.loc[NFLX_return.index<pd.to_datetime('2019-10-30')].mean()"
   ]
  },
  {
   "cell_type": "markdown",
   "metadata": {
    "colab_type": "text",
    "id": "WRaUgKF7wlWw"
   },
   "source": [
    "## Constant Volatiltiy"
   ]
  },
  {
   "cell_type": "code",
   "execution_count": 6,
   "metadata": {
    "colab": {
     "base_uri": "https://localhost:8080/",
     "height": 34
    },
    "colab_type": "code",
    "executionInfo": {
     "elapsed": 1438,
     "status": "ok",
     "timestamp": 1577079368475,
     "user": {
      "displayName": "Yuqing Wang",
      "photoUrl": "",
      "userId": "11167574284643904802"
     },
     "user_tz": 300
    },
    "id": "VzL2JFfWwnZC",
    "outputId": "eb37a946-02a9-4910-956b-a7281feda10f"
   },
   "outputs": [
    {
     "data": {
      "text/plain": [
       "0.024824316605013056"
      ]
     },
     "execution_count": 6,
     "metadata": {},
     "output_type": "execute_result"
    }
   ],
   "source": [
    "vol = np.std(NFLX_return.loc[NFLX_return.index<pd.to_datetime('2019-10-30')])\n",
    "vol"
   ]
  },
  {
   "cell_type": "code",
   "execution_count": 7,
   "metadata": {
    "colab": {
     "base_uri": "https://localhost:8080/",
     "height": 34
    },
    "colab_type": "code",
    "executionInfo": {
     "elapsed": 1414,
     "status": "ok",
     "timestamp": 1577079368476,
     "user": {
      "displayName": "Yuqing Wang",
      "photoUrl": "",
      "userId": "11167574284643904802"
     },
     "user_tz": 300
    },
    "id": "1l5H5JWjxnzf",
    "outputId": "728b4b54-333a-4ae1-d6c7-3725a1572f65"
   },
   "outputs": [
    {
     "data": {
      "text/plain": [
       "0.0006162466949059269"
      ]
     },
     "execution_count": 7,
     "metadata": {},
     "output_type": "execute_result"
    }
   ],
   "source": [
    "vol*vol"
   ]
  },
  {
   "cell_type": "markdown",
   "metadata": {
    "colab_type": "text",
    "id": "wsqp0EQ2wtsC"
   },
   "source": [
    "## ARCH(1)"
   ]
  },
  {
   "cell_type": "code",
   "execution_count": 8,
   "metadata": {
    "colab": {
     "base_uri": "https://localhost:8080/",
     "height": 306
    },
    "colab_type": "code",
    "executionInfo": {
     "elapsed": 4269,
     "status": "ok",
     "timestamp": 1577079371354,
     "user": {
      "displayName": "Yuqing Wang",
      "photoUrl": "",
      "userId": "11167574284643904802"
     },
     "user_tz": 300
    },
    "id": "FX-bXBEBwr0D",
    "outputId": "cdb390f7-2763-4f4b-d1d2-dbe9f1a75e80"
   },
   "outputs": [
    {
     "name": "stderr",
     "output_type": "stream",
     "text": [
      "/Users/yuqingwang/opt/anaconda3/lib/python3.7/site-packages/ipykernel_launcher.py:8: RuntimeWarning: invalid value encountered in log\n",
      "  \n"
     ]
    },
    {
     "name": "stdout",
     "output_type": "stream",
     "text": [
      "Optimization terminated successfully.\n",
      "         Current function value: -2192.397476\n",
      "         Iterations: 230\n",
      "         Function evaluations: 432\n"
     ]
    },
    {
     "data": {
      "text/plain": [
       " final_simplex: (array([[0.00057936, 0.06576088, 0.00105597],\n",
       "       [0.00057936, 0.06576088, 0.00105597],\n",
       "       [0.00057936, 0.06576088, 0.00105597],\n",
       "       [0.00057936, 0.06576088, 0.00105597]]), array([-2192.39747573, -2192.39747573, -2192.39747573, -2192.39747573]))\n",
       "           fun: -2192.3974757294095\n",
       "       message: 'Optimization terminated successfully.'\n",
       "          nfev: 432\n",
       "           nit: 230\n",
       "        status: 0\n",
       "       success: True\n",
       "             x: array([0.00057936, 0.06576088, 0.00105597])"
      ]
     },
     "execution_count": 8,
     "metadata": {},
     "output_type": "execute_result"
    }
   ],
   "source": [
    "parameter_ARCH = np.array([vol,0.3,NFLX_return_mean])#alfa_0,alfa_1,miu\n",
    "\n",
    "\n",
    "def L_ARCH (parameter_0):\n",
    "    result = 0\n",
    "    sigma2 = vol*vol\n",
    "    for i in NFLX_return.loc[NFLX_return.index<pd.to_datetime('2019-10-30')]:\n",
    "        result = result + np.log(2*math.pi)/2 + np.log(sigma2)/2 + (i-parameter_0[2])*(i-parameter_0[2])/(sigma2)/2\n",
    "        sigma2 = parameter_0[0]+parameter_0[1]*(i-parameter_0[2])*(i-parameter_0[2])\n",
    "    return result\n",
    "\n",
    "res_ARCH = minimize(L_ARCH, parameter_ARCH, method='nelder-mead',\n",
    "                options={'xtol': 1e-9, 'disp': True, 'maxiter': 1000})\n",
    "res_ARCH"
   ]
  },
  {
   "cell_type": "code",
   "execution_count": 9,
   "metadata": {
    "colab": {},
    "colab_type": "code",
    "id": "l2mfeBohw2J6"
   },
   "outputs": [],
   "source": [
    "ARCH_estimated_vol = []\n",
    "sigma2 = vol*vol\n",
    "for i in NFLX_return:\n",
    "    sigma2 = res_ARCH.x[0]+res_ARCH.x[1]*(i-res_ARCH.x[2])*(i-res_ARCH.x[2])\n",
    "    ARCH_estimated_vol.append(sigma2)\n",
    "ARCH_estimated_vol.pop\n",
    "ARCH_estimated_vol = pd.DataFrame(ARCH_estimated_vol, index = NFLX_return.index, columns = ['ARCH_estimated_vol'])"
   ]
  },
  {
   "cell_type": "code",
   "execution_count": 20,
   "metadata": {
    "colab": {},
    "colab_type": "code",
    "id": "MDUaQfp6Qb-J"
   },
   "outputs": [],
   "source": [
    "#np.sqrt(ARCH_estimated_vol*252).to_pickle('Estimated Volatility/MFLX_ARCH_estimated_vol.pkl')"
   ]
  },
  {
   "cell_type": "markdown",
   "metadata": {
    "colab_type": "text",
    "id": "mQjl2gvgxN-z"
   },
   "source": [
    "## GARCH(1,1)"
   ]
  },
  {
   "cell_type": "code",
   "execution_count": 11,
   "metadata": {
    "colab": {
     "base_uri": "https://localhost:8080/",
     "height": 360
    },
    "colab_type": "code",
    "executionInfo": {
     "elapsed": 11105,
     "status": "ok",
     "timestamp": 1577079378221,
     "user": {
      "displayName": "Yuqing Wang",
      "photoUrl": "",
      "userId": "11167574284643904802"
     },
     "user_tz": 300
    },
    "id": "17_ABvr3xCmG",
    "outputId": "460e8563-d519-4690-81eb-c8454bf7e963"
   },
   "outputs": [
    {
     "name": "stderr",
     "output_type": "stream",
     "text": [
      "/Users/yuqingwang/opt/anaconda3/lib/python3.7/site-packages/ipykernel_launcher.py:8: RuntimeWarning: invalid value encountered in log\n",
      "  \n"
     ]
    },
    {
     "name": "stdout",
     "output_type": "stream",
     "text": [
      "Optimization terminated successfully.\n",
      "         Current function value: -2203.326087\n",
      "         Iterations: 537\n",
      "         Function evaluations: 920\n"
     ]
    },
    {
     "data": {
      "text/plain": [
       " final_simplex: (array([[3.62260648e-05, 3.56636769e-02, 9.04695530e-01, 1.07064313e-03],\n",
       "       [3.62260650e-05, 3.56636768e-02, 9.04695529e-01, 1.07064313e-03],\n",
       "       [3.62260646e-05, 3.56636766e-02, 9.04695530e-01, 1.07064314e-03],\n",
       "       [3.62260645e-05, 3.56636768e-02, 9.04695530e-01, 1.07064312e-03],\n",
       "       [3.62260647e-05, 3.56636768e-02, 9.04695530e-01, 1.07064313e-03]]), array([-2203.32608693, -2203.32608693, -2203.32608693, -2203.32608693,\n",
       "       -2203.32608693]))\n",
       "           fun: -2203.3260869344076\n",
       "       message: 'Optimization terminated successfully.'\n",
       "          nfev: 920\n",
       "           nit: 537\n",
       "        status: 0\n",
       "       success: True\n",
       "             x: array([3.62260648e-05, 3.56636769e-02, 9.04695530e-01, 1.07064313e-03])"
      ]
     },
     "execution_count": 11,
     "metadata": {},
     "output_type": "execute_result"
    }
   ],
   "source": [
    "parameter_GARCH = np.array([vol,0.34,0.66,NFLX_return_mean])#alfa_0,alfa_1,beta_1,miu\n",
    "\n",
    "\n",
    "def L_GARCH (parameter_0):\n",
    "    result = 0\n",
    "    sigma2 = vol*vol\n",
    "    for i in NFLX_return.loc[NFLX_return.index<pd.to_datetime('2019-10-30')]:\n",
    "        result = result + np.log(2*math.pi)/2 + np.log(sigma2)/2 + (i-parameter_0[3])*(i-parameter_0[3])/(sigma2)/2\n",
    "        sigma2 = parameter_0[0]+parameter_0[1]*(i-parameter_0[3])*(i-parameter_0[3])+parameter_0[2]*sigma2\n",
    "    return result\n",
    "\n",
    "res_GARCH = minimize(L_GARCH, parameter_GARCH, method='nelder-mead',\n",
    "                options={'xtol': 1e-9, 'disp': True, 'maxiter': 1000})\n",
    "res_GARCH"
   ]
  },
  {
   "cell_type": "code",
   "execution_count": 12,
   "metadata": {
    "colab": {
     "base_uri": "https://localhost:8080/",
     "height": 51
    },
    "colab_type": "code",
    "executionInfo": {
     "elapsed": 11087,
     "status": "ok",
     "timestamp": 1577079378222,
     "user": {
      "displayName": "Yuqing Wang",
      "photoUrl": "",
      "userId": "11167574284643904802"
     },
     "user_tz": 300
    },
    "id": "2LKiKmiJxcTx",
    "outputId": "170ceaa8-4420-4933-dd9b-6a61ef848ade"
   },
   "outputs": [
    {
     "data": {
      "text/plain": [
       "GARCH_estimated_vol    0.000607\n",
       "dtype: float64"
      ]
     },
     "execution_count": 12,
     "metadata": {},
     "output_type": "execute_result"
    }
   ],
   "source": [
    "GARCH_estimated_vol = []\n",
    "sigma2 = vol*vol\n",
    "for i in NFLX_return:\n",
    "    sigma2 = res_GARCH.x[0]+res_GARCH.x[1]*(i-res_GARCH.x[3])*(i-res_GARCH.x[3])+res_GARCH.x[2]*sigma2\n",
    "    GARCH_estimated_vol.append(sigma2)\n",
    "GARCH_estimated_vol.pop\n",
    "GARCH_estimated_vol = pd.DataFrame(GARCH_estimated_vol, index = NFLX_return.index, columns = ['GARCH_estimated_vol'])\n",
    "GARCH_estimated_vol.mean()"
   ]
  },
  {
   "cell_type": "code",
   "execution_count": 21,
   "metadata": {
    "colab": {},
    "colab_type": "code",
    "id": "X-XAO-rWQhZP"
   },
   "outputs": [],
   "source": [
    "#np.sqrt(GARCH_estimated_vol*252).to_pickle('Estimated Volatility/MFLX_GARCH_estimated_vol.pkl')"
   ]
  },
  {
   "cell_type": "markdown",
   "metadata": {
    "colab_type": "text",
    "id": "GeeMeNkaxZkH"
   },
   "source": [
    "## TGARCH"
   ]
  },
  {
   "cell_type": "code",
   "execution_count": 14,
   "metadata": {
    "colab": {
     "base_uri": "https://localhost:8080/",
     "height": 476
    },
    "colab_type": "code",
    "executionInfo": {
     "elapsed": 20381,
     "status": "ok",
     "timestamp": 1577079387540,
     "user": {
      "displayName": "Yuqing Wang",
      "photoUrl": "",
      "userId": "11167574284643904802"
     },
     "user_tz": 300
    },
    "id": "ddo9Bh9hxXJm",
    "outputId": "b92d5daf-5662-46c0-b48f-f2254d3d0aed"
   },
   "outputs": [
    {
     "name": "stderr",
     "output_type": "stream",
     "text": [
      "/Users/yuqingwang/opt/anaconda3/lib/python3.7/site-packages/ipykernel_launcher.py:7: RuntimeWarning: invalid value encountered in log\n",
      "  import sys\n"
     ]
    },
    {
     "name": "stdout",
     "output_type": "stream",
     "text": [
      "Optimization terminated successfully.\n",
      "         Current function value: -2210.214513\n",
      "         Iterations: 661\n",
      "         Function evaluations: 1095\n"
     ]
    },
    {
     "data": {
      "text/plain": [
       " final_simplex: (array([[ 7.88975317e-06, -7.44237891e-03,  9.77754452e-01,\n",
       "         1.22181574e-03,  3.21225585e-02],\n",
       "       [ 7.88975291e-06, -7.44237833e-03,  9.77754452e-01,\n",
       "         1.22181570e-03,  3.21225580e-02],\n",
       "       [ 7.88975314e-06, -7.44237893e-03,  9.77754452e-01,\n",
       "         1.22181570e-03,  3.21225586e-02],\n",
       "       [ 7.88975319e-06, -7.44237874e-03,  9.77754452e-01,\n",
       "         1.22181569e-03,  3.21225582e-02],\n",
       "       [ 7.88975290e-06, -7.44237885e-03,  9.77754452e-01,\n",
       "         1.22181583e-03,  3.21225588e-02],\n",
       "       [ 7.88975310e-06, -7.44237910e-03,  9.77754452e-01,\n",
       "         1.22181568e-03,  3.21225582e-02]]), array([-2210.21451324, -2210.21451324, -2210.21451324, -2210.21451324,\n",
       "       -2210.21451324, -2210.21451324]))\n",
       "           fun: -2210.214513235055\n",
       "       message: 'Optimization terminated successfully.'\n",
       "          nfev: 1095\n",
       "           nit: 661\n",
       "        status: 0\n",
       "       success: True\n",
       "             x: array([ 7.88975317e-06, -7.44237891e-03,  9.77754452e-01,  1.22181574e-03,\n",
       "        3.21225585e-02])"
      ]
     },
     "execution_count": 14,
     "metadata": {},
     "output_type": "execute_result"
    }
   ],
   "source": [
    "parameter_TGARCH = np.array([0,0.35,0.5,0,0])#alfa_0,alfa_1,beta_!,miu,gamma1\n",
    "\n",
    "def L_TGARCH (parameter_0):\n",
    "    result = 0\n",
    "    sigma2 = vol*vol\n",
    "    for i in NFLX_return.loc[NFLX_return.index<pd.to_datetime('2019-10-30')]:\n",
    "        result = result + np.log(2*math.pi)/2 + np.log(sigma2)/2 + (i-parameter_0[3])*(i-parameter_0[3])/(sigma2)/2\n",
    "        if i-parameter_0[3]<0:\n",
    "            S = 1\n",
    "        else:\n",
    "            S = 0\n",
    "        sigma2 = parameter_0[0]+parameter_0[1]*(i-parameter_0[3])*(i-parameter_0[3])+parameter_0[4]*S*(i-parameter_0[3])*(i-parameter_0[3])+parameter_0[2]*sigma2\n",
    "    return result\n",
    "\n",
    "res_TGARCH = minimize(L_TGARCH, parameter_TGARCH, method='nelder-mead',\n",
    "                options={'xtol': 1e-9, 'disp': True, 'maxiter': 1000})\n",
    "res_TGARCH"
   ]
  },
  {
   "cell_type": "code",
   "execution_count": 15,
   "metadata": {
    "colab": {
     "base_uri": "https://localhost:8080/",
     "height": 51
    },
    "colab_type": "code",
    "executionInfo": {
     "elapsed": 20363,
     "status": "ok",
     "timestamp": 1577079387542,
     "user": {
      "displayName": "Yuqing Wang",
      "photoUrl": "",
      "userId": "11167574284643904802"
     },
     "user_tz": 300
    },
    "id": "Dptmo5kgx0uL",
    "outputId": "89d8cf07-7880-489f-8e15-40f9274f9cec"
   },
   "outputs": [
    {
     "data": {
      "text/plain": [
       "TGARCH_estimated_vol    0.000602\n",
       "dtype: float64"
      ]
     },
     "execution_count": 15,
     "metadata": {},
     "output_type": "execute_result"
    }
   ],
   "source": [
    "TGARCH_estimated_vol = []\n",
    "sigma2 = vol*vol\n",
    "for i in NFLX_return:\n",
    "    if i-res_TGARCH.x[3]<0:\n",
    "        S = 1\n",
    "    else:\n",
    "        S = 0\n",
    "    sigma2 = res_TGARCH.x[0]+res_TGARCH.x[1]*(i-res_TGARCH.x[3])*(i-res_TGARCH.x[3])+res_TGARCH.x[4]*S*(i-res_TGARCH.x[3])*(i-res_TGARCH.x[3])+res_TGARCH.x[2]*sigma2\n",
    "    TGARCH_estimated_vol.append(sigma2)\n",
    "TGARCH_estimated_vol.pop\n",
    "TGARCH_estimated_vol = pd.DataFrame(TGARCH_estimated_vol, index = NFLX_return.index, columns = ['TGARCH_estimated_vol'])\n",
    "TGARCH_estimated_vol.mean()"
   ]
  },
  {
   "cell_type": "code",
   "execution_count": 22,
   "metadata": {
    "colab": {},
    "colab_type": "code",
    "id": "JZqxcBhyQlv5"
   },
   "outputs": [],
   "source": [
    "#np.sqrt(TGARCH_estimated_vol*252).to_pickle('Estimated Volatility/MFLX_TGARCH_estimated_vol.pkl')"
   ]
  },
  {
   "cell_type": "markdown",
   "metadata": {
    "colab_type": "text",
    "id": "eY3ogOfbyFso"
   },
   "source": [
    "## IGARCH"
   ]
  },
  {
   "cell_type": "code",
   "execution_count": 17,
   "metadata": {
    "colab": {
     "base_uri": "https://localhost:8080/",
     "height": 306
    },
    "colab_type": "code",
    "executionInfo": {
     "elapsed": 28001,
     "status": "ok",
     "timestamp": 1577079395209,
     "user": {
      "displayName": "Yuqing Wang",
      "photoUrl": "",
      "userId": "11167574284643904802"
     },
     "user_tz": 300
    },
    "id": "Ld_Uf3dDx7QK",
    "outputId": "e8f4bf20-b3e2-4f92-ec7a-eef02eee96e3"
   },
   "outputs": [
    {
     "name": "stderr",
     "output_type": "stream",
     "text": [
      "/Users/yuqingwang/opt/anaconda3/lib/python3.7/site-packages/ipykernel_launcher.py:8: RuntimeWarning: invalid value encountered in log\n",
      "  \n"
     ]
    },
    {
     "name": "stdout",
     "output_type": "stream",
     "text": [
      "Optimization terminated successfully.\n",
      "         Current function value: -2192.386121\n",
      "         Iterations: 629\n",
      "         Function evaluations: 1145\n"
     ]
    },
    {
     "data": {
      "text/plain": [
       " final_simplex: (array([[9.22176854e-07, 9.83119634e-01, 1.23599287e-03],\n",
       "       [9.22176895e-07, 9.83119633e-01, 1.23599275e-03],\n",
       "       [9.22176900e-07, 9.83119634e-01, 1.23599278e-03],\n",
       "       [9.22176922e-07, 9.83119633e-01, 1.23599280e-03]]), array([-2192.38612052, -2192.38612052, -2192.38612052, -2192.38612052]))\n",
       "           fun: -2192.386120522846\n",
       "       message: 'Optimization terminated successfully.'\n",
       "          nfev: 1145\n",
       "           nit: 629\n",
       "        status: 0\n",
       "       success: True\n",
       "             x: array([9.22176854e-07, 9.83119634e-01, 1.23599287e-03])"
      ]
     },
     "execution_count": 17,
     "metadata": {},
     "output_type": "execute_result"
    }
   ],
   "source": [
    "parameter_IGARCH = np.array([vol,0.66,NFLX_return_mean])#alfa_0,beta_1,miu\n",
    "\n",
    "\n",
    "def L_IGARCH (parameter_0):\n",
    "    result = 0\n",
    "    sigma2 = vol*vol\n",
    "    for i in NFLX_return.loc[NFLX_return.index<pd.to_datetime('2019-10-30')]:\n",
    "        result = result + np.log(2*math.pi)/2 + np.log(sigma2)/2 + (i-parameter_0[2])*(i-parameter_0[2])/(sigma2)/2\n",
    "        sigma2 = parameter_0[0]+(1-parameter_0[1])*(i-parameter_0[2])*(i-parameter_0[2])+parameter_0[1]*sigma2\n",
    "    return result\n",
    "\n",
    "res_IGARCH = minimize(L_IGARCH, parameter_IGARCH, method='nelder-mead',\n",
    "                options={'xtol': 1e-9, 'disp': True, 'maxiter': 1000})\n",
    "res_IGARCH"
   ]
  },
  {
   "cell_type": "code",
   "execution_count": 18,
   "metadata": {
    "colab": {
     "base_uri": "https://localhost:8080/",
     "height": 51
    },
    "colab_type": "code",
    "executionInfo": {
     "elapsed": 27979,
     "status": "ok",
     "timestamp": 1577079395210,
     "user": {
      "displayName": "Yuqing Wang",
      "photoUrl": "",
      "userId": "11167574284643904802"
     },
     "user_tz": 300
    },
    "id": "vUtjx8A5yNdQ",
    "outputId": "c823dc49-ba9e-4c0b-f0ac-a1b61918af92"
   },
   "outputs": [
    {
     "data": {
      "text/plain": [
       "IGARCH_estimated_vol    0.000667\n",
       "dtype: float64"
      ]
     },
     "execution_count": 18,
     "metadata": {},
     "output_type": "execute_result"
    }
   ],
   "source": [
    "IGARCH_estimated_vol = []\n",
    "sigma2 = vol*vol\n",
    "for i in NFLX_return:\n",
    "    sigma2 = res_IGARCH.x[0]+(1-res_IGARCH.x[1])*(i-res_IGARCH.x[2])*(i-res_IGARCH.x[2])+res_IGARCH.x[1]*sigma2\n",
    "    IGARCH_estimated_vol.append(sigma2)\n",
    "IGARCH_estimated_vol.pop\n",
    "IGARCH_estimated_vol = pd.DataFrame(IGARCH_estimated_vol, index = NFLX_return.index, columns = ['IGARCH_estimated_vol'])\n",
    "IGARCH_estimated_vol.mean()"
   ]
  },
  {
   "cell_type": "code",
   "execution_count": 23,
   "metadata": {
    "colab": {},
    "colab_type": "code",
    "id": "W4e0uYzUyXfP"
   },
   "outputs": [],
   "source": [
    "#np.sqrt(IGARCH_estimated_vol*252).to_pickle('Estimated Volatility/MFLX_IGARCH_estimated_vol.pkl')"
   ]
  },
  {
   "cell_type": "code",
   "execution_count": null,
   "metadata": {
    "colab": {},
    "colab_type": "code",
    "id": "JAdQ78-nQzCH"
   },
   "outputs": [],
   "source": []
  }
 ],
 "metadata": {
  "colab": {
   "name": "Model_NFLX.ipynb",
   "provenance": []
  },
  "kernelspec": {
   "display_name": "Python 3",
   "language": "python",
   "name": "python3"
  },
  "language_info": {
   "codemirror_mode": {
    "name": "ipython",
    "version": 3
   },
   "file_extension": ".py",
   "mimetype": "text/x-python",
   "name": "python",
   "nbconvert_exporter": "python",
   "pygments_lexer": "ipython3",
   "version": "3.7.4"
  }
 },
 "nbformat": 4,
 "nbformat_minor": 1
}
